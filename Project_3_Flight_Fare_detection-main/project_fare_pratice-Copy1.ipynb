{
 "cells": [
  {
   "cell_type": "code",
   "execution_count": 1,
   "metadata": {},
   "outputs": [],
   "source": [
    "import pandas as pd\n",
    "import numpy as np\n",
    "import matplotlib.pyplot as plt\n",
    "import seaborn as sns\n"
   ]
  },
  {
   "cell_type": "code",
   "execution_count": 2,
   "metadata": {},
   "outputs": [],
   "source": [
    "data = pd.read_excel('C:/Users/aravi/Downloads/predict_fair_airline_datasets/Data_Train.xlsx')"
   ]
  },
  {
   "cell_type": "code",
   "execution_count": 3,
   "metadata": {},
   "outputs": [
    {
     "data": {
      "text/html": [
       "<div>\n",
       "<style scoped>\n",
       "    .dataframe tbody tr th:only-of-type {\n",
       "        vertical-align: middle;\n",
       "    }\n",
       "\n",
       "    .dataframe tbody tr th {\n",
       "        vertical-align: top;\n",
       "    }\n",
       "\n",
       "    .dataframe thead th {\n",
       "        text-align: right;\n",
       "    }\n",
       "</style>\n",
       "<table border=\"1\" class=\"dataframe\">\n",
       "  <thead>\n",
       "    <tr style=\"text-align: right;\">\n",
       "      <th></th>\n",
       "      <th>Airline</th>\n",
       "      <th>Date_of_Journey</th>\n",
       "      <th>Source</th>\n",
       "      <th>Destination</th>\n",
       "      <th>Route</th>\n",
       "      <th>Dep_Time</th>\n",
       "      <th>Arrival_Time</th>\n",
       "      <th>Duration</th>\n",
       "      <th>Total_Stops</th>\n",
       "      <th>Additional_Info</th>\n",
       "      <th>Price</th>\n",
       "    </tr>\n",
       "  </thead>\n",
       "  <tbody>\n",
       "    <tr>\n",
       "      <th>0</th>\n",
       "      <td>IndiGo</td>\n",
       "      <td>24/03/2019</td>\n",
       "      <td>Banglore</td>\n",
       "      <td>New Delhi</td>\n",
       "      <td>BLR → DEL</td>\n",
       "      <td>22:20</td>\n",
       "      <td>01:10 22 Mar</td>\n",
       "      <td>2h 50m</td>\n",
       "      <td>non-stop</td>\n",
       "      <td>No info</td>\n",
       "      <td>3897</td>\n",
       "    </tr>\n",
       "    <tr>\n",
       "      <th>1</th>\n",
       "      <td>Air India</td>\n",
       "      <td>1/05/2019</td>\n",
       "      <td>Kolkata</td>\n",
       "      <td>Banglore</td>\n",
       "      <td>CCU → IXR → BBI → BLR</td>\n",
       "      <td>05:50</td>\n",
       "      <td>13:15</td>\n",
       "      <td>7h 25m</td>\n",
       "      <td>2 stops</td>\n",
       "      <td>No info</td>\n",
       "      <td>7662</td>\n",
       "    </tr>\n",
       "    <tr>\n",
       "      <th>2</th>\n",
       "      <td>Jet Airways</td>\n",
       "      <td>9/06/2019</td>\n",
       "      <td>Delhi</td>\n",
       "      <td>Cochin</td>\n",
       "      <td>DEL → LKO → BOM → COK</td>\n",
       "      <td>09:25</td>\n",
       "      <td>04:25 10 Jun</td>\n",
       "      <td>19h</td>\n",
       "      <td>2 stops</td>\n",
       "      <td>No info</td>\n",
       "      <td>13882</td>\n",
       "    </tr>\n",
       "    <tr>\n",
       "      <th>3</th>\n",
       "      <td>IndiGo</td>\n",
       "      <td>12/05/2019</td>\n",
       "      <td>Kolkata</td>\n",
       "      <td>Banglore</td>\n",
       "      <td>CCU → NAG → BLR</td>\n",
       "      <td>18:05</td>\n",
       "      <td>23:30</td>\n",
       "      <td>5h 25m</td>\n",
       "      <td>1 stop</td>\n",
       "      <td>No info</td>\n",
       "      <td>6218</td>\n",
       "    </tr>\n",
       "    <tr>\n",
       "      <th>4</th>\n",
       "      <td>IndiGo</td>\n",
       "      <td>01/03/2019</td>\n",
       "      <td>Banglore</td>\n",
       "      <td>New Delhi</td>\n",
       "      <td>BLR → NAG → DEL</td>\n",
       "      <td>16:50</td>\n",
       "      <td>21:35</td>\n",
       "      <td>4h 45m</td>\n",
       "      <td>1 stop</td>\n",
       "      <td>No info</td>\n",
       "      <td>13302</td>\n",
       "    </tr>\n",
       "  </tbody>\n",
       "</table>\n",
       "</div>"
      ],
      "text/plain": [
       "       Airline Date_of_Journey    Source Destination                  Route  \\\n",
       "0       IndiGo      24/03/2019  Banglore   New Delhi              BLR → DEL   \n",
       "1    Air India       1/05/2019   Kolkata    Banglore  CCU → IXR → BBI → BLR   \n",
       "2  Jet Airways       9/06/2019     Delhi      Cochin  DEL → LKO → BOM → COK   \n",
       "3       IndiGo      12/05/2019   Kolkata    Banglore        CCU → NAG → BLR   \n",
       "4       IndiGo      01/03/2019  Banglore   New Delhi        BLR → NAG → DEL   \n",
       "\n",
       "  Dep_Time  Arrival_Time Duration Total_Stops Additional_Info  Price  \n",
       "0    22:20  01:10 22 Mar   2h 50m    non-stop         No info   3897  \n",
       "1    05:50         13:15   7h 25m     2 stops         No info   7662  \n",
       "2    09:25  04:25 10 Jun      19h     2 stops         No info  13882  \n",
       "3    18:05         23:30   5h 25m      1 stop         No info   6218  \n",
       "4    16:50         21:35   4h 45m      1 stop         No info  13302  "
      ]
     },
     "execution_count": 3,
     "metadata": {},
     "output_type": "execute_result"
    }
   ],
   "source": [
    "data.head()#checking the head of the dataframe"
   ]
  },
  {
   "cell_type": "code",
   "execution_count": 4,
   "metadata": {},
   "outputs": [
    {
     "data": {
      "text/plain": [
       "Airline            0\n",
       "Date_of_Journey    0\n",
       "Source             0\n",
       "Destination        0\n",
       "Route              1\n",
       "Dep_Time           0\n",
       "Arrival_Time       0\n",
       "Duration           0\n",
       "Total_Stops        1\n",
       "Additional_Info    0\n",
       "Price              0\n",
       "dtype: int64"
      ]
     },
     "execution_count": 4,
     "metadata": {},
     "output_type": "execute_result"
    }
   ],
   "source": [
    "data.isnull().sum()#checking the null values"
   ]
  },
  {
   "cell_type": "code",
   "execution_count": 5,
   "metadata": {},
   "outputs": [],
   "source": [
    "data.dropna(inplace = True)#I just simply drop the null values"
   ]
  },
  {
   "cell_type": "code",
   "execution_count": 6,
   "metadata": {},
   "outputs": [
    {
     "data": {
      "text/plain": [
       "Airline            0\n",
       "Date_of_Journey    0\n",
       "Source             0\n",
       "Destination        0\n",
       "Route              0\n",
       "Dep_Time           0\n",
       "Arrival_Time       0\n",
       "Duration           0\n",
       "Total_Stops        0\n",
       "Additional_Info    0\n",
       "Price              0\n",
       "dtype: int64"
      ]
     },
     "execution_count": 6,
     "metadata": {},
     "output_type": "execute_result"
    }
   ],
   "source": [
    "data.isna().sum()#now, it's look better :)"
   ]
  },
  {
   "cell_type": "code",
   "execution_count": 7,
   "metadata": {},
   "outputs": [
    {
     "data": {
      "text/plain": [
       "Airline            object\n",
       "Date_of_Journey    object\n",
       "Source             object\n",
       "Destination        object\n",
       "Route              object\n",
       "Dep_Time           object\n",
       "Arrival_Time       object\n",
       "Duration           object\n",
       "Total_Stops        object\n",
       "Additional_Info    object\n",
       "Price               int64\n",
       "dtype: object"
      ]
     },
     "execution_count": 7,
     "metadata": {},
     "output_type": "execute_result"
    }
   ],
   "source": [
    "data.dtypes#checking the datatypes"
   ]
  },
  {
   "cell_type": "code",
   "execution_count": 8,
   "metadata": {},
   "outputs": [],
   "source": [
    "#let's create a function that will change the datatype"
   ]
  },
  {
   "cell_type": "code",
   "execution_count": 9,
   "metadata": {},
   "outputs": [],
   "source": [
    "def change_type(a):\n",
    "    data[a] = pd.to_datetime(data[a])\n",
    "    "
   ]
  },
  {
   "cell_type": "code",
   "execution_count": 10,
   "metadata": {},
   "outputs": [
    {
     "data": {
      "text/plain": [
       "Index(['Airline', 'Date_of_Journey', 'Source', 'Destination', 'Route',\n",
       "       'Dep_Time', 'Arrival_Time', 'Duration', 'Total_Stops',\n",
       "       'Additional_Info', 'Price'],\n",
       "      dtype='object')"
      ]
     },
     "execution_count": 10,
     "metadata": {},
     "output_type": "execute_result"
    }
   ],
   "source": [
    "data.columns"
   ]
  },
  {
   "cell_type": "code",
   "execution_count": 11,
   "metadata": {},
   "outputs": [],
   "source": [
    "for i in ['Date_of_Journey', 'Dep_Time', 'Arrival_Time']:#this i iterator will iteratae eveything\n",
    "    change_type(i)"
   ]
  },
  {
   "cell_type": "code",
   "execution_count": 12,
   "metadata": {},
   "outputs": [
    {
     "data": {
      "text/plain": [
       "Airline                    object\n",
       "Date_of_Journey    datetime64[ns]\n",
       "Source                     object\n",
       "Destination                object\n",
       "Route                      object\n",
       "Dep_Time           datetime64[ns]\n",
       "Arrival_Time       datetime64[ns]\n",
       "Duration                   object\n",
       "Total_Stops                object\n",
       "Additional_Info            object\n",
       "Price                       int64\n",
       "dtype: object"
      ]
     },
     "execution_count": 12,
     "metadata": {},
     "output_type": "execute_result"
    }
   ],
   "source": [
    "data.dtypes# we changed the datatype\n"
   ]
  },
  {
   "cell_type": "code",
   "execution_count": 13,
   "metadata": {},
   "outputs": [],
   "source": [
    "#lets tell to our machine to what is date and month"
   ]
  },
  {
   "cell_type": "code",
   "execution_count": 14,
   "metadata": {},
   "outputs": [],
   "source": [
    "data['journey_day'] = data['Date_of_Journey'].dt.day#dt is the function that will help to retrive the date\n",
    "data['journey_month'] = data['Date_of_Journey'].dt.month#same here."
   ]
  },
  {
   "cell_type": "code",
   "execution_count": 15,
   "metadata": {},
   "outputs": [
    {
     "data": {
      "text/html": [
       "<div>\n",
       "<style scoped>\n",
       "    .dataframe tbody tr th:only-of-type {\n",
       "        vertical-align: middle;\n",
       "    }\n",
       "\n",
       "    .dataframe tbody tr th {\n",
       "        vertical-align: top;\n",
       "    }\n",
       "\n",
       "    .dataframe thead th {\n",
       "        text-align: right;\n",
       "    }\n",
       "</style>\n",
       "<table border=\"1\" class=\"dataframe\">\n",
       "  <thead>\n",
       "    <tr style=\"text-align: right;\">\n",
       "      <th></th>\n",
       "      <th>Airline</th>\n",
       "      <th>Date_of_Journey</th>\n",
       "      <th>Source</th>\n",
       "      <th>Destination</th>\n",
       "      <th>Route</th>\n",
       "      <th>Dep_Time</th>\n",
       "      <th>Arrival_Time</th>\n",
       "      <th>Duration</th>\n",
       "      <th>Total_Stops</th>\n",
       "      <th>Additional_Info</th>\n",
       "      <th>Price</th>\n",
       "      <th>journey_day</th>\n",
       "      <th>journey_month</th>\n",
       "    </tr>\n",
       "  </thead>\n",
       "  <tbody>\n",
       "    <tr>\n",
       "      <th>0</th>\n",
       "      <td>IndiGo</td>\n",
       "      <td>2019-03-24</td>\n",
       "      <td>Banglore</td>\n",
       "      <td>New Delhi</td>\n",
       "      <td>BLR → DEL</td>\n",
       "      <td>2021-08-05 22:20:00</td>\n",
       "      <td>2021-03-22 01:10:00</td>\n",
       "      <td>2h 50m</td>\n",
       "      <td>non-stop</td>\n",
       "      <td>No info</td>\n",
       "      <td>3897</td>\n",
       "      <td>24</td>\n",
       "      <td>3</td>\n",
       "    </tr>\n",
       "    <tr>\n",
       "      <th>1</th>\n",
       "      <td>Air India</td>\n",
       "      <td>2019-01-05</td>\n",
       "      <td>Kolkata</td>\n",
       "      <td>Banglore</td>\n",
       "      <td>CCU → IXR → BBI → BLR</td>\n",
       "      <td>2021-08-05 05:50:00</td>\n",
       "      <td>2021-08-05 13:15:00</td>\n",
       "      <td>7h 25m</td>\n",
       "      <td>2 stops</td>\n",
       "      <td>No info</td>\n",
       "      <td>7662</td>\n",
       "      <td>5</td>\n",
       "      <td>1</td>\n",
       "    </tr>\n",
       "    <tr>\n",
       "      <th>2</th>\n",
       "      <td>Jet Airways</td>\n",
       "      <td>2019-09-06</td>\n",
       "      <td>Delhi</td>\n",
       "      <td>Cochin</td>\n",
       "      <td>DEL → LKO → BOM → COK</td>\n",
       "      <td>2021-08-05 09:25:00</td>\n",
       "      <td>2021-06-10 04:25:00</td>\n",
       "      <td>19h</td>\n",
       "      <td>2 stops</td>\n",
       "      <td>No info</td>\n",
       "      <td>13882</td>\n",
       "      <td>6</td>\n",
       "      <td>9</td>\n",
       "    </tr>\n",
       "    <tr>\n",
       "      <th>3</th>\n",
       "      <td>IndiGo</td>\n",
       "      <td>2019-12-05</td>\n",
       "      <td>Kolkata</td>\n",
       "      <td>Banglore</td>\n",
       "      <td>CCU → NAG → BLR</td>\n",
       "      <td>2021-08-05 18:05:00</td>\n",
       "      <td>2021-08-05 23:30:00</td>\n",
       "      <td>5h 25m</td>\n",
       "      <td>1 stop</td>\n",
       "      <td>No info</td>\n",
       "      <td>6218</td>\n",
       "      <td>5</td>\n",
       "      <td>12</td>\n",
       "    </tr>\n",
       "    <tr>\n",
       "      <th>4</th>\n",
       "      <td>IndiGo</td>\n",
       "      <td>2019-01-03</td>\n",
       "      <td>Banglore</td>\n",
       "      <td>New Delhi</td>\n",
       "      <td>BLR → NAG → DEL</td>\n",
       "      <td>2021-08-05 16:50:00</td>\n",
       "      <td>2021-08-05 21:35:00</td>\n",
       "      <td>4h 45m</td>\n",
       "      <td>1 stop</td>\n",
       "      <td>No info</td>\n",
       "      <td>13302</td>\n",
       "      <td>3</td>\n",
       "      <td>1</td>\n",
       "    </tr>\n",
       "  </tbody>\n",
       "</table>\n",
       "</div>"
      ],
      "text/plain": [
       "       Airline Date_of_Journey    Source Destination                  Route  \\\n",
       "0       IndiGo      2019-03-24  Banglore   New Delhi              BLR → DEL   \n",
       "1    Air India      2019-01-05   Kolkata    Banglore  CCU → IXR → BBI → BLR   \n",
       "2  Jet Airways      2019-09-06     Delhi      Cochin  DEL → LKO → BOM → COK   \n",
       "3       IndiGo      2019-12-05   Kolkata    Banglore        CCU → NAG → BLR   \n",
       "4       IndiGo      2019-01-03  Banglore   New Delhi        BLR → NAG → DEL   \n",
       "\n",
       "             Dep_Time        Arrival_Time Duration Total_Stops  \\\n",
       "0 2021-08-05 22:20:00 2021-03-22 01:10:00   2h 50m    non-stop   \n",
       "1 2021-08-05 05:50:00 2021-08-05 13:15:00   7h 25m     2 stops   \n",
       "2 2021-08-05 09:25:00 2021-06-10 04:25:00      19h     2 stops   \n",
       "3 2021-08-05 18:05:00 2021-08-05 23:30:00   5h 25m      1 stop   \n",
       "4 2021-08-05 16:50:00 2021-08-05 21:35:00   4h 45m      1 stop   \n",
       "\n",
       "  Additional_Info  Price  journey_day  journey_month  \n",
       "0         No info   3897           24              3  \n",
       "1         No info   7662            5              1  \n",
       "2         No info  13882            6              9  \n",
       "3         No info   6218            5             12  \n",
       "4         No info  13302            3              1  "
      ]
     },
     "execution_count": 15,
     "metadata": {},
     "output_type": "execute_result"
    }
   ],
   "source": [
    "data.head()"
   ]
  },
  {
   "cell_type": "code",
   "execution_count": 16,
   "metadata": {},
   "outputs": [],
   "source": [
    "data.drop('Date_of_Journey',axis = 1, inplace = True)"
   ]
  },
  {
   "cell_type": "code",
   "execution_count": 17,
   "metadata": {},
   "outputs": [
    {
     "data": {
      "text/html": [
       "<div>\n",
       "<style scoped>\n",
       "    .dataframe tbody tr th:only-of-type {\n",
       "        vertical-align: middle;\n",
       "    }\n",
       "\n",
       "    .dataframe tbody tr th {\n",
       "        vertical-align: top;\n",
       "    }\n",
       "\n",
       "    .dataframe thead th {\n",
       "        text-align: right;\n",
       "    }\n",
       "</style>\n",
       "<table border=\"1\" class=\"dataframe\">\n",
       "  <thead>\n",
       "    <tr style=\"text-align: right;\">\n",
       "      <th></th>\n",
       "      <th>Airline</th>\n",
       "      <th>Source</th>\n",
       "      <th>Destination</th>\n",
       "      <th>Route</th>\n",
       "      <th>Dep_Time</th>\n",
       "      <th>Arrival_Time</th>\n",
       "      <th>Duration</th>\n",
       "      <th>Total_Stops</th>\n",
       "      <th>Additional_Info</th>\n",
       "      <th>Price</th>\n",
       "      <th>journey_day</th>\n",
       "      <th>journey_month</th>\n",
       "    </tr>\n",
       "  </thead>\n",
       "  <tbody>\n",
       "    <tr>\n",
       "      <th>0</th>\n",
       "      <td>IndiGo</td>\n",
       "      <td>Banglore</td>\n",
       "      <td>New Delhi</td>\n",
       "      <td>BLR → DEL</td>\n",
       "      <td>2021-08-05 22:20:00</td>\n",
       "      <td>2021-03-22 01:10:00</td>\n",
       "      <td>2h 50m</td>\n",
       "      <td>non-stop</td>\n",
       "      <td>No info</td>\n",
       "      <td>3897</td>\n",
       "      <td>24</td>\n",
       "      <td>3</td>\n",
       "    </tr>\n",
       "    <tr>\n",
       "      <th>1</th>\n",
       "      <td>Air India</td>\n",
       "      <td>Kolkata</td>\n",
       "      <td>Banglore</td>\n",
       "      <td>CCU → IXR → BBI → BLR</td>\n",
       "      <td>2021-08-05 05:50:00</td>\n",
       "      <td>2021-08-05 13:15:00</td>\n",
       "      <td>7h 25m</td>\n",
       "      <td>2 stops</td>\n",
       "      <td>No info</td>\n",
       "      <td>7662</td>\n",
       "      <td>5</td>\n",
       "      <td>1</td>\n",
       "    </tr>\n",
       "    <tr>\n",
       "      <th>2</th>\n",
       "      <td>Jet Airways</td>\n",
       "      <td>Delhi</td>\n",
       "      <td>Cochin</td>\n",
       "      <td>DEL → LKO → BOM → COK</td>\n",
       "      <td>2021-08-05 09:25:00</td>\n",
       "      <td>2021-06-10 04:25:00</td>\n",
       "      <td>19h</td>\n",
       "      <td>2 stops</td>\n",
       "      <td>No info</td>\n",
       "      <td>13882</td>\n",
       "      <td>6</td>\n",
       "      <td>9</td>\n",
       "    </tr>\n",
       "    <tr>\n",
       "      <th>3</th>\n",
       "      <td>IndiGo</td>\n",
       "      <td>Kolkata</td>\n",
       "      <td>Banglore</td>\n",
       "      <td>CCU → NAG → BLR</td>\n",
       "      <td>2021-08-05 18:05:00</td>\n",
       "      <td>2021-08-05 23:30:00</td>\n",
       "      <td>5h 25m</td>\n",
       "      <td>1 stop</td>\n",
       "      <td>No info</td>\n",
       "      <td>6218</td>\n",
       "      <td>5</td>\n",
       "      <td>12</td>\n",
       "    </tr>\n",
       "    <tr>\n",
       "      <th>4</th>\n",
       "      <td>IndiGo</td>\n",
       "      <td>Banglore</td>\n",
       "      <td>New Delhi</td>\n",
       "      <td>BLR → NAG → DEL</td>\n",
       "      <td>2021-08-05 16:50:00</td>\n",
       "      <td>2021-08-05 21:35:00</td>\n",
       "      <td>4h 45m</td>\n",
       "      <td>1 stop</td>\n",
       "      <td>No info</td>\n",
       "      <td>13302</td>\n",
       "      <td>3</td>\n",
       "      <td>1</td>\n",
       "    </tr>\n",
       "  </tbody>\n",
       "</table>\n",
       "</div>"
      ],
      "text/plain": [
       "       Airline    Source Destination                  Route  \\\n",
       "0       IndiGo  Banglore   New Delhi              BLR → DEL   \n",
       "1    Air India   Kolkata    Banglore  CCU → IXR → BBI → BLR   \n",
       "2  Jet Airways     Delhi      Cochin  DEL → LKO → BOM → COK   \n",
       "3       IndiGo   Kolkata    Banglore        CCU → NAG → BLR   \n",
       "4       IndiGo  Banglore   New Delhi        BLR → NAG → DEL   \n",
       "\n",
       "             Dep_Time        Arrival_Time Duration Total_Stops  \\\n",
       "0 2021-08-05 22:20:00 2021-03-22 01:10:00   2h 50m    non-stop   \n",
       "1 2021-08-05 05:50:00 2021-08-05 13:15:00   7h 25m     2 stops   \n",
       "2 2021-08-05 09:25:00 2021-06-10 04:25:00      19h     2 stops   \n",
       "3 2021-08-05 18:05:00 2021-08-05 23:30:00   5h 25m      1 stop   \n",
       "4 2021-08-05 16:50:00 2021-08-05 21:35:00   4h 45m      1 stop   \n",
       "\n",
       "  Additional_Info  Price  journey_day  journey_month  \n",
       "0         No info   3897           24              3  \n",
       "1         No info   7662            5              1  \n",
       "2         No info  13882            6              9  \n",
       "3         No info   6218            5             12  \n",
       "4         No info  13302            3              1  "
      ]
     },
     "execution_count": 17,
     "metadata": {},
     "output_type": "execute_result"
    }
   ],
   "source": [
    "data.head()"
   ]
  },
  {
   "cell_type": "code",
   "execution_count": 18,
   "metadata": {},
   "outputs": [
    {
     "data": {
      "text/plain": [
       "(10682, 12)"
      ]
     },
     "execution_count": 18,
     "metadata": {},
     "output_type": "execute_result"
    }
   ],
   "source": [
    "data.shape"
   ]
  },
  {
   "cell_type": "code",
   "execution_count": null,
   "metadata": {},
   "outputs": [],
   "source": []
  },
  {
   "cell_type": "code",
   "execution_count": 19,
   "metadata": {},
   "outputs": [],
   "source": [
    "def extract_hour(df,col):#just get the the arrival and dep time to normal numbers\n",
    "    df[col+\"_hour\"]=df[col].dt.hour\n",
    "def extract_min(df,col):\n",
    "    df[col+\"_minute\"]=df[col].dt.minute\n",
    "def drop_column(df,col):\n",
    "    df.drop(col,axis=1,inplace=True)"
   ]
  },
  {
   "cell_type": "code",
   "execution_count": 20,
   "metadata": {},
   "outputs": [],
   "source": [
    "extract_hour(data,'Dep_Time')\n",
    "extract_hour(data,'Arrival_Time')\n",
    "extract_min(data,'Dep_Time')\n",
    "extract_min(data,'Arrival_Time')\n",
    "drop_column(data,'Dep_Time')\n",
    "drop_column(data,'Arrival_Time')\n"
   ]
  },
  {
   "cell_type": "code",
   "execution_count": 21,
   "metadata": {},
   "outputs": [
    {
     "data": {
      "text/html": [
       "<div>\n",
       "<style scoped>\n",
       "    .dataframe tbody tr th:only-of-type {\n",
       "        vertical-align: middle;\n",
       "    }\n",
       "\n",
       "    .dataframe tbody tr th {\n",
       "        vertical-align: top;\n",
       "    }\n",
       "\n",
       "    .dataframe thead th {\n",
       "        text-align: right;\n",
       "    }\n",
       "</style>\n",
       "<table border=\"1\" class=\"dataframe\">\n",
       "  <thead>\n",
       "    <tr style=\"text-align: right;\">\n",
       "      <th></th>\n",
       "      <th>Airline</th>\n",
       "      <th>Source</th>\n",
       "      <th>Destination</th>\n",
       "      <th>Route</th>\n",
       "      <th>Duration</th>\n",
       "      <th>Total_Stops</th>\n",
       "      <th>Additional_Info</th>\n",
       "      <th>Price</th>\n",
       "      <th>journey_day</th>\n",
       "      <th>journey_month</th>\n",
       "      <th>Dep_Time_hour</th>\n",
       "      <th>Arrival_Time_hour</th>\n",
       "      <th>Dep_Time_minute</th>\n",
       "      <th>Arrival_Time_minute</th>\n",
       "    </tr>\n",
       "  </thead>\n",
       "  <tbody>\n",
       "    <tr>\n",
       "      <th>0</th>\n",
       "      <td>IndiGo</td>\n",
       "      <td>Banglore</td>\n",
       "      <td>New Delhi</td>\n",
       "      <td>BLR → DEL</td>\n",
       "      <td>2h 50m</td>\n",
       "      <td>non-stop</td>\n",
       "      <td>No info</td>\n",
       "      <td>3897</td>\n",
       "      <td>24</td>\n",
       "      <td>3</td>\n",
       "      <td>22</td>\n",
       "      <td>1</td>\n",
       "      <td>20</td>\n",
       "      <td>10</td>\n",
       "    </tr>\n",
       "    <tr>\n",
       "      <th>1</th>\n",
       "      <td>Air India</td>\n",
       "      <td>Kolkata</td>\n",
       "      <td>Banglore</td>\n",
       "      <td>CCU → IXR → BBI → BLR</td>\n",
       "      <td>7h 25m</td>\n",
       "      <td>2 stops</td>\n",
       "      <td>No info</td>\n",
       "      <td>7662</td>\n",
       "      <td>5</td>\n",
       "      <td>1</td>\n",
       "      <td>5</td>\n",
       "      <td>13</td>\n",
       "      <td>50</td>\n",
       "      <td>15</td>\n",
       "    </tr>\n",
       "    <tr>\n",
       "      <th>2</th>\n",
       "      <td>Jet Airways</td>\n",
       "      <td>Delhi</td>\n",
       "      <td>Cochin</td>\n",
       "      <td>DEL → LKO → BOM → COK</td>\n",
       "      <td>19h</td>\n",
       "      <td>2 stops</td>\n",
       "      <td>No info</td>\n",
       "      <td>13882</td>\n",
       "      <td>6</td>\n",
       "      <td>9</td>\n",
       "      <td>9</td>\n",
       "      <td>4</td>\n",
       "      <td>25</td>\n",
       "      <td>25</td>\n",
       "    </tr>\n",
       "    <tr>\n",
       "      <th>3</th>\n",
       "      <td>IndiGo</td>\n",
       "      <td>Kolkata</td>\n",
       "      <td>Banglore</td>\n",
       "      <td>CCU → NAG → BLR</td>\n",
       "      <td>5h 25m</td>\n",
       "      <td>1 stop</td>\n",
       "      <td>No info</td>\n",
       "      <td>6218</td>\n",
       "      <td>5</td>\n",
       "      <td>12</td>\n",
       "      <td>18</td>\n",
       "      <td>23</td>\n",
       "      <td>5</td>\n",
       "      <td>30</td>\n",
       "    </tr>\n",
       "    <tr>\n",
       "      <th>4</th>\n",
       "      <td>IndiGo</td>\n",
       "      <td>Banglore</td>\n",
       "      <td>New Delhi</td>\n",
       "      <td>BLR → NAG → DEL</td>\n",
       "      <td>4h 45m</td>\n",
       "      <td>1 stop</td>\n",
       "      <td>No info</td>\n",
       "      <td>13302</td>\n",
       "      <td>3</td>\n",
       "      <td>1</td>\n",
       "      <td>16</td>\n",
       "      <td>21</td>\n",
       "      <td>50</td>\n",
       "      <td>35</td>\n",
       "    </tr>\n",
       "  </tbody>\n",
       "</table>\n",
       "</div>"
      ],
      "text/plain": [
       "       Airline    Source Destination                  Route Duration  \\\n",
       "0       IndiGo  Banglore   New Delhi              BLR → DEL   2h 50m   \n",
       "1    Air India   Kolkata    Banglore  CCU → IXR → BBI → BLR   7h 25m   \n",
       "2  Jet Airways     Delhi      Cochin  DEL → LKO → BOM → COK      19h   \n",
       "3       IndiGo   Kolkata    Banglore        CCU → NAG → BLR   5h 25m   \n",
       "4       IndiGo  Banglore   New Delhi        BLR → NAG → DEL   4h 45m   \n",
       "\n",
       "  Total_Stops Additional_Info  Price  journey_day  journey_month  \\\n",
       "0    non-stop         No info   3897           24              3   \n",
       "1     2 stops         No info   7662            5              1   \n",
       "2     2 stops         No info  13882            6              9   \n",
       "3      1 stop         No info   6218            5             12   \n",
       "4      1 stop         No info  13302            3              1   \n",
       "\n",
       "   Dep_Time_hour  Arrival_Time_hour  Dep_Time_minute  Arrival_Time_minute  \n",
       "0             22                  1               20                   10  \n",
       "1              5                 13               50                   15  \n",
       "2              9                  4               25                   25  \n",
       "3             18                 23                5                   30  \n",
       "4             16                 21               50                   35  "
      ]
     },
     "execution_count": 21,
     "metadata": {},
     "output_type": "execute_result"
    }
   ],
   "source": [
    "data.head()"
   ]
  },
  {
   "cell_type": "markdown",
   "metadata": {},
   "source": [
    "## Data Preprocessing"
   ]
  },
  {
   "cell_type": "code",
   "execution_count": 22,
   "metadata": {},
   "outputs": [],
   "source": [
    "duration = list(data['Duration'])"
   ]
  },
  {
   "cell_type": "code",
   "execution_count": 23,
   "metadata": {},
   "outputs": [],
   "source": [
    "for i in range(len(duration)): # just we are doing the preprocessing because of missing values\n",
    "    if len(duration[i].split(' '))==2:\n",
    "        pass\n",
    "    else:\n",
    "        if 'h' in duration[i]:                   \n",
    "            duration[i]=duration[i] + ' 0m'      \n",
    "        else:\n",
    "            duration[i]='0h '+ duration[i]"
   ]
  },
  {
   "cell_type": "code",
   "execution_count": 24,
   "metadata": {},
   "outputs": [],
   "source": [
    "data['Duration'] = duration"
   ]
  },
  {
   "cell_type": "code",
   "execution_count": 25,
   "metadata": {},
   "outputs": [
    {
     "data": {
      "text/html": [
       "<div>\n",
       "<style scoped>\n",
       "    .dataframe tbody tr th:only-of-type {\n",
       "        vertical-align: middle;\n",
       "    }\n",
       "\n",
       "    .dataframe tbody tr th {\n",
       "        vertical-align: top;\n",
       "    }\n",
       "\n",
       "    .dataframe thead th {\n",
       "        text-align: right;\n",
       "    }\n",
       "</style>\n",
       "<table border=\"1\" class=\"dataframe\">\n",
       "  <thead>\n",
       "    <tr style=\"text-align: right;\">\n",
       "      <th></th>\n",
       "      <th>Airline</th>\n",
       "      <th>Source</th>\n",
       "      <th>Destination</th>\n",
       "      <th>Route</th>\n",
       "      <th>Duration</th>\n",
       "      <th>Total_Stops</th>\n",
       "      <th>Additional_Info</th>\n",
       "      <th>Price</th>\n",
       "      <th>journey_day</th>\n",
       "      <th>journey_month</th>\n",
       "      <th>Dep_Time_hour</th>\n",
       "      <th>Arrival_Time_hour</th>\n",
       "      <th>Dep_Time_minute</th>\n",
       "      <th>Arrival_Time_minute</th>\n",
       "    </tr>\n",
       "  </thead>\n",
       "  <tbody>\n",
       "    <tr>\n",
       "      <th>0</th>\n",
       "      <td>IndiGo</td>\n",
       "      <td>Banglore</td>\n",
       "      <td>New Delhi</td>\n",
       "      <td>BLR → DEL</td>\n",
       "      <td>2h 50m</td>\n",
       "      <td>non-stop</td>\n",
       "      <td>No info</td>\n",
       "      <td>3897</td>\n",
       "      <td>24</td>\n",
       "      <td>3</td>\n",
       "      <td>22</td>\n",
       "      <td>1</td>\n",
       "      <td>20</td>\n",
       "      <td>10</td>\n",
       "    </tr>\n",
       "    <tr>\n",
       "      <th>1</th>\n",
       "      <td>Air India</td>\n",
       "      <td>Kolkata</td>\n",
       "      <td>Banglore</td>\n",
       "      <td>CCU → IXR → BBI → BLR</td>\n",
       "      <td>7h 25m</td>\n",
       "      <td>2 stops</td>\n",
       "      <td>No info</td>\n",
       "      <td>7662</td>\n",
       "      <td>5</td>\n",
       "      <td>1</td>\n",
       "      <td>5</td>\n",
       "      <td>13</td>\n",
       "      <td>50</td>\n",
       "      <td>15</td>\n",
       "    </tr>\n",
       "    <tr>\n",
       "      <th>2</th>\n",
       "      <td>Jet Airways</td>\n",
       "      <td>Delhi</td>\n",
       "      <td>Cochin</td>\n",
       "      <td>DEL → LKO → BOM → COK</td>\n",
       "      <td>19h 0m</td>\n",
       "      <td>2 stops</td>\n",
       "      <td>No info</td>\n",
       "      <td>13882</td>\n",
       "      <td>6</td>\n",
       "      <td>9</td>\n",
       "      <td>9</td>\n",
       "      <td>4</td>\n",
       "      <td>25</td>\n",
       "      <td>25</td>\n",
       "    </tr>\n",
       "    <tr>\n",
       "      <th>3</th>\n",
       "      <td>IndiGo</td>\n",
       "      <td>Kolkata</td>\n",
       "      <td>Banglore</td>\n",
       "      <td>CCU → NAG → BLR</td>\n",
       "      <td>5h 25m</td>\n",
       "      <td>1 stop</td>\n",
       "      <td>No info</td>\n",
       "      <td>6218</td>\n",
       "      <td>5</td>\n",
       "      <td>12</td>\n",
       "      <td>18</td>\n",
       "      <td>23</td>\n",
       "      <td>5</td>\n",
       "      <td>30</td>\n",
       "    </tr>\n",
       "    <tr>\n",
       "      <th>4</th>\n",
       "      <td>IndiGo</td>\n",
       "      <td>Banglore</td>\n",
       "      <td>New Delhi</td>\n",
       "      <td>BLR → NAG → DEL</td>\n",
       "      <td>4h 45m</td>\n",
       "      <td>1 stop</td>\n",
       "      <td>No info</td>\n",
       "      <td>13302</td>\n",
       "      <td>3</td>\n",
       "      <td>1</td>\n",
       "      <td>16</td>\n",
       "      <td>21</td>\n",
       "      <td>50</td>\n",
       "      <td>35</td>\n",
       "    </tr>\n",
       "  </tbody>\n",
       "</table>\n",
       "</div>"
      ],
      "text/plain": [
       "       Airline    Source Destination                  Route Duration  \\\n",
       "0       IndiGo  Banglore   New Delhi              BLR → DEL   2h 50m   \n",
       "1    Air India   Kolkata    Banglore  CCU → IXR → BBI → BLR   7h 25m   \n",
       "2  Jet Airways     Delhi      Cochin  DEL → LKO → BOM → COK   19h 0m   \n",
       "3       IndiGo   Kolkata    Banglore        CCU → NAG → BLR   5h 25m   \n",
       "4       IndiGo  Banglore   New Delhi        BLR → NAG → DEL   4h 45m   \n",
       "\n",
       "  Total_Stops Additional_Info  Price  journey_day  journey_month  \\\n",
       "0    non-stop         No info   3897           24              3   \n",
       "1     2 stops         No info   7662            5              1   \n",
       "2     2 stops         No info  13882            6              9   \n",
       "3      1 stop         No info   6218            5             12   \n",
       "4      1 stop         No info  13302            3              1   \n",
       "\n",
       "   Dep_Time_hour  Arrival_Time_hour  Dep_Time_minute  Arrival_Time_minute  \n",
       "0             22                  1               20                   10  \n",
       "1              5                 13               50                   15  \n",
       "2              9                  4               25                   25  \n",
       "3             18                 23                5                   30  \n",
       "4             16                 21               50                   35  "
      ]
     },
     "execution_count": 25,
     "metadata": {},
     "output_type": "execute_result"
    }
   ],
   "source": [
    "data.head()"
   ]
  },
  {
   "cell_type": "code",
   "execution_count": 26,
   "metadata": {},
   "outputs": [],
   "source": [
    "def hours(a):\n",
    "    return a.split(' ')[0][0:-1]\n",
    "def minute(b):\n",
    "    return b.split(' ')[1][0:-1]"
   ]
  },
  {
   "cell_type": "code",
   "execution_count": 27,
   "metadata": {},
   "outputs": [],
   "source": [
    "data['Duration_hours'] = data['Duration'].apply(hours)"
   ]
  },
  {
   "cell_type": "code",
   "execution_count": 28,
   "metadata": {},
   "outputs": [],
   "source": [
    "data['Duration_minute'] = data['Duration'].apply(minute)"
   ]
  },
  {
   "cell_type": "code",
   "execution_count": 29,
   "metadata": {},
   "outputs": [
    {
     "data": {
      "text/html": [
       "<div>\n",
       "<style scoped>\n",
       "    .dataframe tbody tr th:only-of-type {\n",
       "        vertical-align: middle;\n",
       "    }\n",
       "\n",
       "    .dataframe tbody tr th {\n",
       "        vertical-align: top;\n",
       "    }\n",
       "\n",
       "    .dataframe thead th {\n",
       "        text-align: right;\n",
       "    }\n",
       "</style>\n",
       "<table border=\"1\" class=\"dataframe\">\n",
       "  <thead>\n",
       "    <tr style=\"text-align: right;\">\n",
       "      <th></th>\n",
       "      <th>Airline</th>\n",
       "      <th>Source</th>\n",
       "      <th>Destination</th>\n",
       "      <th>Route</th>\n",
       "      <th>Duration</th>\n",
       "      <th>Total_Stops</th>\n",
       "      <th>Additional_Info</th>\n",
       "      <th>Price</th>\n",
       "      <th>journey_day</th>\n",
       "      <th>journey_month</th>\n",
       "      <th>Dep_Time_hour</th>\n",
       "      <th>Arrival_Time_hour</th>\n",
       "      <th>Dep_Time_minute</th>\n",
       "      <th>Arrival_Time_minute</th>\n",
       "      <th>Duration_hours</th>\n",
       "      <th>Duration_minute</th>\n",
       "    </tr>\n",
       "  </thead>\n",
       "  <tbody>\n",
       "    <tr>\n",
       "      <th>0</th>\n",
       "      <td>IndiGo</td>\n",
       "      <td>Banglore</td>\n",
       "      <td>New Delhi</td>\n",
       "      <td>BLR → DEL</td>\n",
       "      <td>2h 50m</td>\n",
       "      <td>non-stop</td>\n",
       "      <td>No info</td>\n",
       "      <td>3897</td>\n",
       "      <td>24</td>\n",
       "      <td>3</td>\n",
       "      <td>22</td>\n",
       "      <td>1</td>\n",
       "      <td>20</td>\n",
       "      <td>10</td>\n",
       "      <td>2</td>\n",
       "      <td>50</td>\n",
       "    </tr>\n",
       "    <tr>\n",
       "      <th>1</th>\n",
       "      <td>Air India</td>\n",
       "      <td>Kolkata</td>\n",
       "      <td>Banglore</td>\n",
       "      <td>CCU → IXR → BBI → BLR</td>\n",
       "      <td>7h 25m</td>\n",
       "      <td>2 stops</td>\n",
       "      <td>No info</td>\n",
       "      <td>7662</td>\n",
       "      <td>5</td>\n",
       "      <td>1</td>\n",
       "      <td>5</td>\n",
       "      <td>13</td>\n",
       "      <td>50</td>\n",
       "      <td>15</td>\n",
       "      <td>7</td>\n",
       "      <td>25</td>\n",
       "    </tr>\n",
       "    <tr>\n",
       "      <th>2</th>\n",
       "      <td>Jet Airways</td>\n",
       "      <td>Delhi</td>\n",
       "      <td>Cochin</td>\n",
       "      <td>DEL → LKO → BOM → COK</td>\n",
       "      <td>19h 0m</td>\n",
       "      <td>2 stops</td>\n",
       "      <td>No info</td>\n",
       "      <td>13882</td>\n",
       "      <td>6</td>\n",
       "      <td>9</td>\n",
       "      <td>9</td>\n",
       "      <td>4</td>\n",
       "      <td>25</td>\n",
       "      <td>25</td>\n",
       "      <td>19</td>\n",
       "      <td>0</td>\n",
       "    </tr>\n",
       "    <tr>\n",
       "      <th>3</th>\n",
       "      <td>IndiGo</td>\n",
       "      <td>Kolkata</td>\n",
       "      <td>Banglore</td>\n",
       "      <td>CCU → NAG → BLR</td>\n",
       "      <td>5h 25m</td>\n",
       "      <td>1 stop</td>\n",
       "      <td>No info</td>\n",
       "      <td>6218</td>\n",
       "      <td>5</td>\n",
       "      <td>12</td>\n",
       "      <td>18</td>\n",
       "      <td>23</td>\n",
       "      <td>5</td>\n",
       "      <td>30</td>\n",
       "      <td>5</td>\n",
       "      <td>25</td>\n",
       "    </tr>\n",
       "    <tr>\n",
       "      <th>4</th>\n",
       "      <td>IndiGo</td>\n",
       "      <td>Banglore</td>\n",
       "      <td>New Delhi</td>\n",
       "      <td>BLR → NAG → DEL</td>\n",
       "      <td>4h 45m</td>\n",
       "      <td>1 stop</td>\n",
       "      <td>No info</td>\n",
       "      <td>13302</td>\n",
       "      <td>3</td>\n",
       "      <td>1</td>\n",
       "      <td>16</td>\n",
       "      <td>21</td>\n",
       "      <td>50</td>\n",
       "      <td>35</td>\n",
       "      <td>4</td>\n",
       "      <td>45</td>\n",
       "    </tr>\n",
       "  </tbody>\n",
       "</table>\n",
       "</div>"
      ],
      "text/plain": [
       "       Airline    Source Destination                  Route Duration  \\\n",
       "0       IndiGo  Banglore   New Delhi              BLR → DEL   2h 50m   \n",
       "1    Air India   Kolkata    Banglore  CCU → IXR → BBI → BLR   7h 25m   \n",
       "2  Jet Airways     Delhi      Cochin  DEL → LKO → BOM → COK   19h 0m   \n",
       "3       IndiGo   Kolkata    Banglore        CCU → NAG → BLR   5h 25m   \n",
       "4       IndiGo  Banglore   New Delhi        BLR → NAG → DEL   4h 45m   \n",
       "\n",
       "  Total_Stops Additional_Info  Price  journey_day  journey_month  \\\n",
       "0    non-stop         No info   3897           24              3   \n",
       "1     2 stops         No info   7662            5              1   \n",
       "2     2 stops         No info  13882            6              9   \n",
       "3      1 stop         No info   6218            5             12   \n",
       "4      1 stop         No info  13302            3              1   \n",
       "\n",
       "   Dep_Time_hour  Arrival_Time_hour  Dep_Time_minute  Arrival_Time_minute  \\\n",
       "0             22                  1               20                   10   \n",
       "1              5                 13               50                   15   \n",
       "2              9                  4               25                   25   \n",
       "3             18                 23                5                   30   \n",
       "4             16                 21               50                   35   \n",
       "\n",
       "  Duration_hours Duration_minute  \n",
       "0              2              50  \n",
       "1              7              25  \n",
       "2             19               0  \n",
       "3              5              25  \n",
       "4              4              45  "
      ]
     },
     "execution_count": 29,
     "metadata": {},
     "output_type": "execute_result"
    }
   ],
   "source": [
    "data.head()"
   ]
  },
  {
   "cell_type": "code",
   "execution_count": 30,
   "metadata": {},
   "outputs": [],
   "source": [
    "drop_column(data,'Duration')"
   ]
  },
  {
   "cell_type": "code",
   "execution_count": 31,
   "metadata": {},
   "outputs": [],
   "source": [
    "data['Duration_hours'] = data['Duration_hours'].astype(int)\n",
    "data['Duration_minute'] = data['Duration_minute'].astype(int)"
   ]
  },
  {
   "cell_type": "code",
   "execution_count": 32,
   "metadata": {},
   "outputs": [],
   "source": [
    "data_cats = [bc for bc in data.columns if data[bc].dtype == 'O']"
   ]
  },
  {
   "cell_type": "code",
   "execution_count": 33,
   "metadata": {},
   "outputs": [
    {
     "data": {
      "text/plain": [
       "['Airline', 'Source', 'Destination', 'Route', 'Total_Stops', 'Additional_Info']"
      ]
     },
     "execution_count": 33,
     "metadata": {},
     "output_type": "execute_result"
    }
   ],
   "source": [
    "data_cats #this are all categorical datas"
   ]
  },
  {
   "cell_type": "code",
   "execution_count": 34,
   "metadata": {},
   "outputs": [],
   "source": [
    "data_cat = [bc for bc in data.columns if data[bc].dtype != 'O']"
   ]
  },
  {
   "cell_type": "code",
   "execution_count": 35,
   "metadata": {},
   "outputs": [
    {
     "data": {
      "text/plain": [
       "['Price',\n",
       " 'journey_day',\n",
       " 'journey_month',\n",
       " 'Dep_Time_hour',\n",
       " 'Arrival_Time_hour',\n",
       " 'Dep_Time_minute',\n",
       " 'Arrival_Time_minute',\n",
       " 'Duration_hours',\n",
       " 'Duration_minute']"
      ]
     },
     "execution_count": 35,
     "metadata": {},
     "output_type": "execute_result"
    }
   ],
   "source": [
    "data_cat#numerical "
   ]
  },
  {
   "cell_type": "code",
   "execution_count": 36,
   "metadata": {},
   "outputs": [],
   "source": [
    "categorical = data[data_cats]"
   ]
  },
  {
   "cell_type": "code",
   "execution_count": 37,
   "metadata": {},
   "outputs": [
    {
     "data": {
      "text/html": [
       "<div>\n",
       "<style scoped>\n",
       "    .dataframe tbody tr th:only-of-type {\n",
       "        vertical-align: middle;\n",
       "    }\n",
       "\n",
       "    .dataframe tbody tr th {\n",
       "        vertical-align: top;\n",
       "    }\n",
       "\n",
       "    .dataframe thead th {\n",
       "        text-align: right;\n",
       "    }\n",
       "</style>\n",
       "<table border=\"1\" class=\"dataframe\">\n",
       "  <thead>\n",
       "    <tr style=\"text-align: right;\">\n",
       "      <th></th>\n",
       "      <th>Airline</th>\n",
       "      <th>Source</th>\n",
       "      <th>Destination</th>\n",
       "      <th>Route</th>\n",
       "      <th>Total_Stops</th>\n",
       "      <th>Additional_Info</th>\n",
       "    </tr>\n",
       "  </thead>\n",
       "  <tbody>\n",
       "    <tr>\n",
       "      <th>0</th>\n",
       "      <td>IndiGo</td>\n",
       "      <td>Banglore</td>\n",
       "      <td>New Delhi</td>\n",
       "      <td>BLR → DEL</td>\n",
       "      <td>non-stop</td>\n",
       "      <td>No info</td>\n",
       "    </tr>\n",
       "    <tr>\n",
       "      <th>1</th>\n",
       "      <td>Air India</td>\n",
       "      <td>Kolkata</td>\n",
       "      <td>Banglore</td>\n",
       "      <td>CCU → IXR → BBI → BLR</td>\n",
       "      <td>2 stops</td>\n",
       "      <td>No info</td>\n",
       "    </tr>\n",
       "    <tr>\n",
       "      <th>2</th>\n",
       "      <td>Jet Airways</td>\n",
       "      <td>Delhi</td>\n",
       "      <td>Cochin</td>\n",
       "      <td>DEL → LKO → BOM → COK</td>\n",
       "      <td>2 stops</td>\n",
       "      <td>No info</td>\n",
       "    </tr>\n",
       "    <tr>\n",
       "      <th>3</th>\n",
       "      <td>IndiGo</td>\n",
       "      <td>Kolkata</td>\n",
       "      <td>Banglore</td>\n",
       "      <td>CCU → NAG → BLR</td>\n",
       "      <td>1 stop</td>\n",
       "      <td>No info</td>\n",
       "    </tr>\n",
       "    <tr>\n",
       "      <th>4</th>\n",
       "      <td>IndiGo</td>\n",
       "      <td>Banglore</td>\n",
       "      <td>New Delhi</td>\n",
       "      <td>BLR → NAG → DEL</td>\n",
       "      <td>1 stop</td>\n",
       "      <td>No info</td>\n",
       "    </tr>\n",
       "  </tbody>\n",
       "</table>\n",
       "</div>"
      ],
      "text/plain": [
       "       Airline    Source Destination                  Route Total_Stops  \\\n",
       "0       IndiGo  Banglore   New Delhi              BLR → DEL    non-stop   \n",
       "1    Air India   Kolkata    Banglore  CCU → IXR → BBI → BLR     2 stops   \n",
       "2  Jet Airways     Delhi      Cochin  DEL → LKO → BOM → COK     2 stops   \n",
       "3       IndiGo   Kolkata    Banglore        CCU → NAG → BLR      1 stop   \n",
       "4       IndiGo  Banglore   New Delhi        BLR → NAG → DEL      1 stop   \n",
       "\n",
       "  Additional_Info  \n",
       "0         No info  \n",
       "1         No info  \n",
       "2         No info  \n",
       "3         No info  \n",
       "4         No info  "
      ]
     },
     "execution_count": 37,
     "metadata": {},
     "output_type": "execute_result"
    }
   ],
   "source": [
    "categorical.head()#our categorical data"
   ]
  },
  {
   "cell_type": "code",
   "execution_count": 38,
   "metadata": {},
   "outputs": [
    {
     "data": {
      "text/plain": [
       "Jet Airways                          3849\n",
       "IndiGo                               2053\n",
       "Air India                            1751\n",
       "Multiple carriers                    1196\n",
       "SpiceJet                              818\n",
       "Vistara                               479\n",
       "Air Asia                              319\n",
       "GoAir                                 194\n",
       "Multiple carriers Premium economy      13\n",
       "Jet Airways Business                    6\n",
       "Vistara Premium economy                 3\n",
       "Trujet                                  1\n",
       "Name: Airline, dtype: int64"
      ]
     },
     "execution_count": 38,
     "metadata": {},
     "output_type": "execute_result"
    }
   ],
   "source": [
    "categorical['Airline'].value_counts()"
   ]
  },
  {
   "cell_type": "code",
   "execution_count": 39,
   "metadata": {},
   "outputs": [
    {
     "data": {
      "image/png": "[encoded data removed]",
      "text/plain": [
       "<Figure size 1080x720 with 1 Axes>"
      ]
     },
     "metadata": {
      "needs_background": "light"
     },
     "output_type": "display_data"
    }
   ],
   "source": [
    "plt.figure(figsize = (15,10))\n",
    "sns.boxplot(x = 'Airline',y = 'Price',data = data.sort_values('Price',ascending = False))\n",
    "plt.xticks(rotation = 90);"
   ]
  },
  {
   "cell_type": "code",
   "execution_count": 40,
   "metadata": {},
   "outputs": [],
   "source": [
    "#jet airways has highest"
   ]
  },
  {
   "cell_type": "code",
   "execution_count": 41,
   "metadata": {},
   "outputs": [
    {
     "data": {
      "image/png": "[encoded data removed]",
      "text/plain": [
       "<Figure size 1080x720 with 1 Axes>"
      ]
     },
     "metadata": {
      "needs_background": "light"
     },
     "output_type": "display_data"
    }
   ],
   "source": [
    "plt.figure(figsize = (15,10))\n",
    "sns.boxplot(x = 'Total_Stops',y = 'Price',data = data.sort_values('Price',ascending = False))\n",
    "plt.xticks(rotation = 90);"
   ]
  },
  {
   "cell_type": "code",
   "execution_count": 42,
   "metadata": {},
   "outputs": [],
   "source": [
    "#that mean the company who have more stops they have higher fare"
   ]
  },
  {
   "cell_type": "code",
   "execution_count": 43,
   "metadata": {},
   "outputs": [],
   "source": [
    "#lets do one hot encoding"
   ]
  },
  {
   "cell_type": "code",
   "execution_count": 44,
   "metadata": {},
   "outputs": [],
   "source": [
    "Airline = pd.get_dummies(categorical['Airline'], drop_first = True)"
   ]
  },
  {
   "cell_type": "code",
   "execution_count": 45,
   "metadata": {},
   "outputs": [
    {
     "data": {
      "text/html": [
       "<div>\n",
       "<style scoped>\n",
       "    .dataframe tbody tr th:only-of-type {\n",
       "        vertical-align: middle;\n",
       "    }\n",
       "\n",
       "    .dataframe tbody tr th {\n",
       "        vertical-align: top;\n",
       "    }\n",
       "\n",
       "    .dataframe thead th {\n",
       "        text-align: right;\n",
       "    }\n",
       "</style>\n",
       "<table border=\"1\" class=\"dataframe\">\n",
       "  <thead>\n",
       "    <tr style=\"text-align: right;\">\n",
       "      <th></th>\n",
       "      <th>Air India</th>\n",
       "      <th>GoAir</th>\n",
       "      <th>IndiGo</th>\n",
       "      <th>Jet Airways</th>\n",
       "      <th>Jet Airways Business</th>\n",
       "      <th>Multiple carriers</th>\n",
       "      <th>Multiple carriers Premium economy</th>\n",
       "      <th>SpiceJet</th>\n",
       "      <th>Trujet</th>\n",
       "      <th>Vistara</th>\n",
       "      <th>Vistara Premium economy</th>\n",
       "    </tr>\n",
       "  </thead>\n",
       "  <tbody>\n",
       "    <tr>\n",
       "      <th>0</th>\n",
       "      <td>0</td>\n",
       "      <td>0</td>\n",
       "      <td>1</td>\n",
       "      <td>0</td>\n",
       "      <td>0</td>\n",
       "      <td>0</td>\n",
       "      <td>0</td>\n",
       "      <td>0</td>\n",
       "      <td>0</td>\n",
       "      <td>0</td>\n",
       "      <td>0</td>\n",
       "    </tr>\n",
       "    <tr>\n",
       "      <th>1</th>\n",
       "      <td>1</td>\n",
       "      <td>0</td>\n",
       "      <td>0</td>\n",
       "      <td>0</td>\n",
       "      <td>0</td>\n",
       "      <td>0</td>\n",
       "      <td>0</td>\n",
       "      <td>0</td>\n",
       "      <td>0</td>\n",
       "      <td>0</td>\n",
       "      <td>0</td>\n",
       "    </tr>\n",
       "    <tr>\n",
       "      <th>2</th>\n",
       "      <td>0</td>\n",
       "      <td>0</td>\n",
       "      <td>0</td>\n",
       "      <td>1</td>\n",
       "      <td>0</td>\n",
       "      <td>0</td>\n",
       "      <td>0</td>\n",
       "      <td>0</td>\n",
       "      <td>0</td>\n",
       "      <td>0</td>\n",
       "      <td>0</td>\n",
       "    </tr>\n",
       "    <tr>\n",
       "      <th>3</th>\n",
       "      <td>0</td>\n",
       "      <td>0</td>\n",
       "      <td>1</td>\n",
       "      <td>0</td>\n",
       "      <td>0</td>\n",
       "      <td>0</td>\n",
       "      <td>0</td>\n",
       "      <td>0</td>\n",
       "      <td>0</td>\n",
       "      <td>0</td>\n",
       "      <td>0</td>\n",
       "    </tr>\n",
       "    <tr>\n",
       "      <th>4</th>\n",
       "      <td>0</td>\n",
       "      <td>0</td>\n",
       "      <td>1</td>\n",
       "      <td>0</td>\n",
       "      <td>0</td>\n",
       "      <td>0</td>\n",
       "      <td>0</td>\n",
       "      <td>0</td>\n",
       "      <td>0</td>\n",
       "      <td>0</td>\n",
       "      <td>0</td>\n",
       "    </tr>\n",
       "  </tbody>\n",
       "</table>\n",
       "</div>"
      ],
      "text/plain": [
       "   Air India  GoAir  IndiGo  Jet Airways  Jet Airways Business  \\\n",
       "0          0      0       1            0                     0   \n",
       "1          1      0       0            0                     0   \n",
       "2          0      0       0            1                     0   \n",
       "3          0      0       1            0                     0   \n",
       "4          0      0       1            0                     0   \n",
       "\n",
       "   Multiple carriers  Multiple carriers Premium economy  SpiceJet  Trujet  \\\n",
       "0                  0                                  0         0       0   \n",
       "1                  0                                  0         0       0   \n",
       "2                  0                                  0         0       0   \n",
       "3                  0                                  0         0       0   \n",
       "4                  0                                  0         0       0   \n",
       "\n",
       "   Vistara  Vistara Premium economy  \n",
       "0        0                        0  \n",
       "1        0                        0  \n",
       "2        0                        0  \n",
       "3        0                        0  \n",
       "4        0                        0  "
      ]
     },
     "execution_count": 45,
     "metadata": {},
     "output_type": "execute_result"
    }
   ],
   "source": [
    "Airline.head()"
   ]
  },
  {
   "cell_type": "code",
   "execution_count": 46,
   "metadata": {},
   "outputs": [
    {
     "data": {
      "text/plain": [
       "Delhi       4536\n",
       "Kolkata     2871\n",
       "Banglore    2197\n",
       "Mumbai       697\n",
       "Chennai      381\n",
       "Name: Source, dtype: int64"
      ]
     },
     "execution_count": 46,
     "metadata": {},
     "output_type": "execute_result"
    }
   ],
   "source": [
    "categorical['Source'].value_counts()"
   ]
  },
  {
   "cell_type": "code",
   "execution_count": 47,
   "metadata": {},
   "outputs": [
    {
     "data": {
      "image/png": "[encoded data removed]",
      "text/plain": [
       "<Figure size 1080x720 with 1 Axes>"
      ]
     },
     "metadata": {
      "needs_background": "light"
     },
     "output_type": "display_data"
    }
   ],
   "source": [
    "plt.figure(figsize = (15,10))\n",
    "sns.boxplot(x = 'Source',y = 'Price',data = data.sort_values('Price',ascending = False))\n",
    "plt.xticks(rotation = 90);"
   ]
  },
  {
   "cell_type": "code",
   "execution_count": 48,
   "metadata": {},
   "outputs": [],
   "source": [
    "Source = pd.get_dummies(categorical['Source'], drop_first = True)"
   ]
  },
  {
   "cell_type": "code",
   "execution_count": 49,
   "metadata": {},
   "outputs": [
    {
     "data": {
      "text/html": [
       "<div>\n",
       "<style scoped>\n",
       "    .dataframe tbody tr th:only-of-type {\n",
       "        vertical-align: middle;\n",
       "    }\n",
       "\n",
       "    .dataframe tbody tr th {\n",
       "        vertical-align: top;\n",
       "    }\n",
       "\n",
       "    .dataframe thead th {\n",
       "        text-align: right;\n",
       "    }\n",
       "</style>\n",
       "<table border=\"1\" class=\"dataframe\">\n",
       "  <thead>\n",
       "    <tr style=\"text-align: right;\">\n",
       "      <th></th>\n",
       "      <th>Chennai</th>\n",
       "      <th>Delhi</th>\n",
       "      <th>Kolkata</th>\n",
       "      <th>Mumbai</th>\n",
       "    </tr>\n",
       "  </thead>\n",
       "  <tbody>\n",
       "    <tr>\n",
       "      <th>0</th>\n",
       "      <td>0</td>\n",
       "      <td>0</td>\n",
       "      <td>0</td>\n",
       "      <td>0</td>\n",
       "    </tr>\n",
       "    <tr>\n",
       "      <th>1</th>\n",
       "      <td>0</td>\n",
       "      <td>0</td>\n",
       "      <td>1</td>\n",
       "      <td>0</td>\n",
       "    </tr>\n",
       "    <tr>\n",
       "      <th>2</th>\n",
       "      <td>0</td>\n",
       "      <td>1</td>\n",
       "      <td>0</td>\n",
       "      <td>0</td>\n",
       "    </tr>\n",
       "    <tr>\n",
       "      <th>3</th>\n",
       "      <td>0</td>\n",
       "      <td>0</td>\n",
       "      <td>1</td>\n",
       "      <td>0</td>\n",
       "    </tr>\n",
       "    <tr>\n",
       "      <th>4</th>\n",
       "      <td>0</td>\n",
       "      <td>0</td>\n",
       "      <td>0</td>\n",
       "      <td>0</td>\n",
       "    </tr>\n",
       "  </tbody>\n",
       "</table>\n",
       "</div>"
      ],
      "text/plain": [
       "   Chennai  Delhi  Kolkata  Mumbai\n",
       "0        0      0        0       0\n",
       "1        0      0        1       0\n",
       "2        0      1        0       0\n",
       "3        0      0        1       0\n",
       "4        0      0        0       0"
      ]
     },
     "execution_count": 49,
     "metadata": {},
     "output_type": "execute_result"
    }
   ],
   "source": [
    "Source.head()"
   ]
  },
  {
   "cell_type": "code",
   "execution_count": 50,
   "metadata": {},
   "outputs": [
    {
     "data": {
      "text/plain": [
       "Cochin       4536\n",
       "Banglore     2871\n",
       "Delhi        1265\n",
       "New Delhi     932\n",
       "Hyderabad     697\n",
       "Kolkata       381\n",
       "Name: Destination, dtype: int64"
      ]
     },
     "execution_count": 50,
     "metadata": {},
     "output_type": "execute_result"
    }
   ],
   "source": [
    "categorical['Destination'].value_counts()"
   ]
  },
  {
   "cell_type": "code",
   "execution_count": 51,
   "metadata": {},
   "outputs": [
    {
     "data": {
      "image/png": "[encoded data removed]",
      "text/plain": [
       "<Figure size 1080x720 with 1 Axes>"
      ]
     },
     "metadata": {
      "needs_background": "light"
     },
     "output_type": "display_data"
    }
   ],
   "source": [
    "plt.figure(figsize = (15,10))\n",
    "sns.boxplot(x = 'Destination',y = 'Price',data = data.sort_values('Price',ascending = False))\n",
    "plt.xticks(rotation = 90);"
   ]
  },
  {
   "cell_type": "code",
   "execution_count": 52,
   "metadata": {},
   "outputs": [],
   "source": [
    "Destination = pd.get_dummies(categorical['Destination'], drop_first = True)"
   ]
  },
  {
   "cell_type": "code",
   "execution_count": 53,
   "metadata": {},
   "outputs": [
    {
     "data": {
      "text/html": [
       "<div>\n",
       "<style scoped>\n",
       "    .dataframe tbody tr th:only-of-type {\n",
       "        vertical-align: middle;\n",
       "    }\n",
       "\n",
       "    .dataframe tbody tr th {\n",
       "        vertical-align: top;\n",
       "    }\n",
       "\n",
       "    .dataframe thead th {\n",
       "        text-align: right;\n",
       "    }\n",
       "</style>\n",
       "<table border=\"1\" class=\"dataframe\">\n",
       "  <thead>\n",
       "    <tr style=\"text-align: right;\">\n",
       "      <th></th>\n",
       "      <th>Cochin</th>\n",
       "      <th>Delhi</th>\n",
       "      <th>Hyderabad</th>\n",
       "      <th>Kolkata</th>\n",
       "      <th>New Delhi</th>\n",
       "    </tr>\n",
       "  </thead>\n",
       "  <tbody>\n",
       "    <tr>\n",
       "      <th>0</th>\n",
       "      <td>0</td>\n",
       "      <td>0</td>\n",
       "      <td>0</td>\n",
       "      <td>0</td>\n",
       "      <td>1</td>\n",
       "    </tr>\n",
       "    <tr>\n",
       "      <th>1</th>\n",
       "      <td>0</td>\n",
       "      <td>0</td>\n",
       "      <td>0</td>\n",
       "      <td>0</td>\n",
       "      <td>0</td>\n",
       "    </tr>\n",
       "    <tr>\n",
       "      <th>2</th>\n",
       "      <td>1</td>\n",
       "      <td>0</td>\n",
       "      <td>0</td>\n",
       "      <td>0</td>\n",
       "      <td>0</td>\n",
       "    </tr>\n",
       "    <tr>\n",
       "      <th>3</th>\n",
       "      <td>0</td>\n",
       "      <td>0</td>\n",
       "      <td>0</td>\n",
       "      <td>0</td>\n",
       "      <td>0</td>\n",
       "    </tr>\n",
       "    <tr>\n",
       "      <th>4</th>\n",
       "      <td>0</td>\n",
       "      <td>0</td>\n",
       "      <td>0</td>\n",
       "      <td>0</td>\n",
       "      <td>1</td>\n",
       "    </tr>\n",
       "  </tbody>\n",
       "</table>\n",
       "</div>"
      ],
      "text/plain": [
       "   Cochin  Delhi  Hyderabad  Kolkata  New Delhi\n",
       "0       0      0          0        0          1\n",
       "1       0      0          0        0          0\n",
       "2       1      0          0        0          0\n",
       "3       0      0          0        0          0\n",
       "4       0      0          0        0          1"
      ]
     },
     "execution_count": 53,
     "metadata": {},
     "output_type": "execute_result"
    }
   ],
   "source": [
    "Destination.head()"
   ]
  },
  {
   "cell_type": "code",
   "execution_count": 54,
   "metadata": {},
   "outputs": [
    {
     "name": "stderr",
     "output_type": "stream",
     "text": [
      "<ipython-input-54-ed853c737801>:1: SettingWithCopyWarning: \n",
      "A value is trying to be set on a copy of a slice from a DataFrame.\n",
      "Try using .loc[row_indexer,col_indexer] = value instead\n",
      "\n",
      "See the caveats in the documentation: https://pandas.pydata.org/pandas-docs/stable/user_guide/indexing.html#returning-a-view-versus-a-copy\n",
      "  categorical['Route_1'] = categorical['Route'].str.split('→').str[0]# we are just separting the values\n",
      "<ipython-input-54-ed853c737801>:2: SettingWithCopyWarning: \n",
      "A value is trying to be set on a copy of a slice from a DataFrame.\n",
      "Try using .loc[row_indexer,col_indexer] = value instead\n",
      "\n",
      "See the caveats in the documentation: https://pandas.pydata.org/pandas-docs/stable/user_guide/indexing.html#returning-a-view-versus-a-copy\n",
      "  categorical['Route_2'] = categorical['Route'].str.split('→').str[1]\n",
      "<ipython-input-54-ed853c737801>:3: SettingWithCopyWarning: \n",
      "A value is trying to be set on a copy of a slice from a DataFrame.\n",
      "Try using .loc[row_indexer,col_indexer] = value instead\n",
      "\n",
      "See the caveats in the documentation: https://pandas.pydata.org/pandas-docs/stable/user_guide/indexing.html#returning-a-view-versus-a-copy\n",
      "  categorical['Route_3'] = categorical['Route'].str.split('→').str[2]\n",
      "<ipython-input-54-ed853c737801>:4: SettingWithCopyWarning: \n",
      "A value is trying to be set on a copy of a slice from a DataFrame.\n",
      "Try using .loc[row_indexer,col_indexer] = value instead\n",
      "\n",
      "See the caveats in the documentation: https://pandas.pydata.org/pandas-docs/stable/user_guide/indexing.html#returning-a-view-versus-a-copy\n",
      "  categorical['Route_4'] = categorical['Route'].str.split('→').str[3]\n",
      "<ipython-input-54-ed853c737801>:5: SettingWithCopyWarning: \n",
      "A value is trying to be set on a copy of a slice from a DataFrame.\n",
      "Try using .loc[row_indexer,col_indexer] = value instead\n",
      "\n",
      "See the caveats in the documentation: https://pandas.pydata.org/pandas-docs/stable/user_guide/indexing.html#returning-a-view-versus-a-copy\n",
      "  categorical['Route_5'] = categorical['Route'].str.split('→').str[4]\n"
     ]
    }
   ],
   "source": [
    "categorical['Route_1'] = categorical['Route'].str.split('→').str[0]# we are just separting the values\n",
    "categorical['Route_2'] = categorical['Route'].str.split('→').str[1]\n",
    "categorical['Route_3'] = categorical['Route'].str.split('→').str[2]\n",
    "categorical['Route_4'] = categorical['Route'].str.split('→').str[3]\n",
    "categorical['Route_5'] = categorical['Route'].str.split('→').str[4]"
   ]
  },
  {
   "cell_type": "code",
   "execution_count": 55,
   "metadata": {},
   "outputs": [
    {
     "data": {
      "text/html": [
       "<div>\n",
       "<style scoped>\n",
       "    .dataframe tbody tr th:only-of-type {\n",
       "        vertical-align: middle;\n",
       "    }\n",
       "\n",
       "    .dataframe tbody tr th {\n",
       "        vertical-align: top;\n",
       "    }\n",
       "\n",
       "    .dataframe thead th {\n",
       "        text-align: right;\n",
       "    }\n",
       "</style>\n",
       "<table border=\"1\" class=\"dataframe\">\n",
       "  <thead>\n",
       "    <tr style=\"text-align: right;\">\n",
       "      <th></th>\n",
       "      <th>Airline</th>\n",
       "      <th>Source</th>\n",
       "      <th>Destination</th>\n",
       "      <th>Route</th>\n",
       "      <th>Total_Stops</th>\n",
       "      <th>Additional_Info</th>\n",
       "      <th>Route_1</th>\n",
       "      <th>Route_2</th>\n",
       "      <th>Route_3</th>\n",
       "      <th>Route_4</th>\n",
       "      <th>Route_5</th>\n",
       "    </tr>\n",
       "  </thead>\n",
       "  <tbody>\n",
       "    <tr>\n",
       "      <th>0</th>\n",
       "      <td>IndiGo</td>\n",
       "      <td>Banglore</td>\n",
       "      <td>New Delhi</td>\n",
       "      <td>BLR → DEL</td>\n",
       "      <td>non-stop</td>\n",
       "      <td>No info</td>\n",
       "      <td>BLR</td>\n",
       "      <td>DEL</td>\n",
       "      <td>NaN</td>\n",
       "      <td>NaN</td>\n",
       "      <td>NaN</td>\n",
       "    </tr>\n",
       "    <tr>\n",
       "      <th>1</th>\n",
       "      <td>Air India</td>\n",
       "      <td>Kolkata</td>\n",
       "      <td>Banglore</td>\n",
       "      <td>CCU → IXR → BBI → BLR</td>\n",
       "      <td>2 stops</td>\n",
       "      <td>No info</td>\n",
       "      <td>CCU</td>\n",
       "      <td>IXR</td>\n",
       "      <td>BBI</td>\n",
       "      <td>BLR</td>\n",
       "      <td>NaN</td>\n",
       "    </tr>\n",
       "    <tr>\n",
       "      <th>2</th>\n",
       "      <td>Jet Airways</td>\n",
       "      <td>Delhi</td>\n",
       "      <td>Cochin</td>\n",
       "      <td>DEL → LKO → BOM → COK</td>\n",
       "      <td>2 stops</td>\n",
       "      <td>No info</td>\n",
       "      <td>DEL</td>\n",
       "      <td>LKO</td>\n",
       "      <td>BOM</td>\n",
       "      <td>COK</td>\n",
       "      <td>NaN</td>\n",
       "    </tr>\n",
       "    <tr>\n",
       "      <th>3</th>\n",
       "      <td>IndiGo</td>\n",
       "      <td>Kolkata</td>\n",
       "      <td>Banglore</td>\n",
       "      <td>CCU → NAG → BLR</td>\n",
       "      <td>1 stop</td>\n",
       "      <td>No info</td>\n",
       "      <td>CCU</td>\n",
       "      <td>NAG</td>\n",
       "      <td>BLR</td>\n",
       "      <td>NaN</td>\n",
       "      <td>NaN</td>\n",
       "    </tr>\n",
       "    <tr>\n",
       "      <th>4</th>\n",
       "      <td>IndiGo</td>\n",
       "      <td>Banglore</td>\n",
       "      <td>New Delhi</td>\n",
       "      <td>BLR → NAG → DEL</td>\n",
       "      <td>1 stop</td>\n",
       "      <td>No info</td>\n",
       "      <td>BLR</td>\n",
       "      <td>NAG</td>\n",
       "      <td>DEL</td>\n",
       "      <td>NaN</td>\n",
       "      <td>NaN</td>\n",
       "    </tr>\n",
       "  </tbody>\n",
       "</table>\n",
       "</div>"
      ],
      "text/plain": [
       "       Airline    Source Destination                  Route Total_Stops  \\\n",
       "0       IndiGo  Banglore   New Delhi              BLR → DEL    non-stop   \n",
       "1    Air India   Kolkata    Banglore  CCU → IXR → BBI → BLR     2 stops   \n",
       "2  Jet Airways     Delhi      Cochin  DEL → LKO → BOM → COK     2 stops   \n",
       "3       IndiGo   Kolkata    Banglore        CCU → NAG → BLR      1 stop   \n",
       "4       IndiGo  Banglore   New Delhi        BLR → NAG → DEL      1 stop   \n",
       "\n",
       "  Additional_Info Route_1 Route_2 Route_3 Route_4 Route_5  \n",
       "0         No info    BLR      DEL     NaN     NaN     NaN  \n",
       "1         No info    CCU     IXR     BBI      BLR     NaN  \n",
       "2         No info    DEL     LKO     BOM      COK     NaN  \n",
       "3         No info    CCU     NAG      BLR     NaN     NaN  \n",
       "4         No info    BLR     NAG      DEL     NaN     NaN  "
      ]
     },
     "execution_count": 55,
     "metadata": {},
     "output_type": "execute_result"
    }
   ],
   "source": [
    "categorical.head()"
   ]
  },
  {
   "cell_type": "code",
   "execution_count": 56,
   "metadata": {},
   "outputs": [
    {
     "name": "stderr",
     "output_type": "stream",
     "text": [
      "C:\\Users\\aravi\\anaconda3\\lib\\site-packages\\pandas\\core\\frame.py:4163: SettingWithCopyWarning: \n",
      "A value is trying to be set on a copy of a slice from a DataFrame\n",
      "\n",
      "See the caveats in the documentation: https://pandas.pydata.org/pandas-docs/stable/user_guide/indexing.html#returning-a-view-versus-a-copy\n",
      "  return super().drop(\n"
     ]
    }
   ],
   "source": [
    "\n",
    "drop_column(categorical,'Route')"
   ]
  },
  {
   "cell_type": "code",
   "execution_count": 57,
   "metadata": {},
   "outputs": [
    {
     "data": {
      "text/plain": [
       "Airline                0\n",
       "Source                 0\n",
       "Destination            0\n",
       "Total_Stops            0\n",
       "Additional_Info        0\n",
       "Route_1                0\n",
       "Route_2                0\n",
       "Route_3             3491\n",
       "Route_4             9116\n",
       "Route_5            10636\n",
       "dtype: int64"
      ]
     },
     "execution_count": 57,
     "metadata": {},
     "output_type": "execute_result"
    }
   ],
   "source": [
    "categorical.isnull().sum()"
   ]
  },
  {
   "cell_type": "code",
   "execution_count": 58,
   "metadata": {},
   "outputs": [
    {
     "name": "stderr",
     "output_type": "stream",
     "text": [
      "C:\\Users\\aravi\\anaconda3\\lib\\site-packages\\pandas\\core\\series.py:4517: SettingWithCopyWarning: \n",
      "A value is trying to be set on a copy of a slice from a DataFrame\n",
      "\n",
      "See the caveats in the documentation: https://pandas.pydata.org/pandas-docs/stable/user_guide/indexing.html#returning-a-view-versus-a-copy\n",
      "  return super().fillna(\n"
     ]
    }
   ],
   "source": [
    "for i in ['Route_3','Route_4','Route_5']:\n",
    "    categorical[i].fillna('None',inplace = True);"
   ]
  },
  {
   "cell_type": "code",
   "execution_count": 59,
   "metadata": {},
   "outputs": [
    {
     "data": {
      "text/plain": [
       "Airline            0\n",
       "Source             0\n",
       "Destination        0\n",
       "Total_Stops        0\n",
       "Additional_Info    0\n",
       "Route_1            0\n",
       "Route_2            0\n",
       "Route_3            0\n",
       "Route_4            0\n",
       "Route_5            0\n",
       "dtype: int64"
      ]
     },
     "execution_count": 59,
     "metadata": {},
     "output_type": "execute_result"
    }
   ],
   "source": [
    "categorical.isnull().sum()"
   ]
  },
  {
   "cell_type": "code",
   "execution_count": 60,
   "metadata": {},
   "outputs": [
    {
     "name": "stdout",
     "output_type": "stream",
     "text": [
      "Airline has total 12 categories\n",
      "Source has total 5 categories\n",
      "Destination has total 6 categories\n",
      "Total_Stops has total 5 categories\n",
      "Additional_Info has total 10 categories\n",
      "Route_1 has total 5 categories\n",
      "Route_2 has total 45 categories\n",
      "Route_3 has total 30 categories\n",
      "Route_4 has total 14 categories\n",
      "Route_5 has total 6 categories\n"
     ]
    }
   ],
   "source": [
    "for i in categorical.columns:\n",
    "    print('{} has total {} categories'.format(i,len(categorical[i].value_counts())))"
   ]
  },
  {
   "cell_type": "code",
   "execution_count": 61,
   "metadata": {},
   "outputs": [],
   "source": [
    "#we choose lable encoder because it has more number of feature "
   ]
  },
  {
   "cell_type": "code",
   "execution_count": 62,
   "metadata": {},
   "outputs": [],
   "source": [
    "from sklearn.preprocessing import LabelEncoder"
   ]
  },
  {
   "cell_type": "code",
   "execution_count": 63,
   "metadata": {},
   "outputs": [],
   "source": [
    "encoder = LabelEncoder()"
   ]
  },
  {
   "cell_type": "code",
   "execution_count": 64,
   "metadata": {},
   "outputs": [
    {
     "data": {
      "text/plain": [
       "Index(['Airline', 'Source', 'Destination', 'Total_Stops', 'Additional_Info',\n",
       "       'Route_1', 'Route_2', 'Route_3', 'Route_4', 'Route_5'],\n",
       "      dtype='object')"
      ]
     },
     "execution_count": 64,
     "metadata": {},
     "output_type": "execute_result"
    }
   ],
   "source": [
    "categorical.columns"
   ]
  },
  {
   "cell_type": "code",
   "execution_count": 65,
   "metadata": {},
   "outputs": [
    {
     "name": "stderr",
     "output_type": "stream",
     "text": [
      "<ipython-input-65-0a99cd4bcb52>:2: SettingWithCopyWarning: \n",
      "A value is trying to be set on a copy of a slice from a DataFrame.\n",
      "Try using .loc[row_indexer,col_indexer] = value instead\n",
      "\n",
      "See the caveats in the documentation: https://pandas.pydata.org/pandas-docs/stable/user_guide/indexing.html#returning-a-view-versus-a-copy\n",
      "  categorical[i] = encoder.fit_transform(categorical[i]);\n"
     ]
    }
   ],
   "source": [
    "for i in[ 'Route_1', 'Route_2', 'Route_3', 'Route_4', 'Route_5']:\n",
    "    categorical[i] = encoder.fit_transform(categorical[i]);"
   ]
  },
  {
   "cell_type": "code",
   "execution_count": 66,
   "metadata": {},
   "outputs": [
    {
     "data": {
      "text/html": [
       "<div>\n",
       "<style scoped>\n",
       "    .dataframe tbody tr th:only-of-type {\n",
       "        vertical-align: middle;\n",
       "    }\n",
       "\n",
       "    .dataframe tbody tr th {\n",
       "        vertical-align: top;\n",
       "    }\n",
       "\n",
       "    .dataframe thead th {\n",
       "        text-align: right;\n",
       "    }\n",
       "</style>\n",
       "<table border=\"1\" class=\"dataframe\">\n",
       "  <thead>\n",
       "    <tr style=\"text-align: right;\">\n",
       "      <th></th>\n",
       "      <th>Airline</th>\n",
       "      <th>Source</th>\n",
       "      <th>Destination</th>\n",
       "      <th>Total_Stops</th>\n",
       "      <th>Additional_Info</th>\n",
       "      <th>Route_1</th>\n",
       "      <th>Route_2</th>\n",
       "      <th>Route_3</th>\n",
       "      <th>Route_4</th>\n",
       "      <th>Route_5</th>\n",
       "    </tr>\n",
       "  </thead>\n",
       "  <tbody>\n",
       "    <tr>\n",
       "      <th>0</th>\n",
       "      <td>IndiGo</td>\n",
       "      <td>Banglore</td>\n",
       "      <td>New Delhi</td>\n",
       "      <td>non-stop</td>\n",
       "      <td>No info</td>\n",
       "      <td>0</td>\n",
       "      <td>13</td>\n",
       "      <td>29</td>\n",
       "      <td>13</td>\n",
       "      <td>5</td>\n",
       "    </tr>\n",
       "    <tr>\n",
       "      <th>1</th>\n",
       "      <td>Air India</td>\n",
       "      <td>Kolkata</td>\n",
       "      <td>Banglore</td>\n",
       "      <td>2 stops</td>\n",
       "      <td>No info</td>\n",
       "      <td>2</td>\n",
       "      <td>25</td>\n",
       "      <td>1</td>\n",
       "      <td>3</td>\n",
       "      <td>5</td>\n",
       "    </tr>\n",
       "    <tr>\n",
       "      <th>2</th>\n",
       "      <td>Jet Airways</td>\n",
       "      <td>Delhi</td>\n",
       "      <td>Cochin</td>\n",
       "      <td>2 stops</td>\n",
       "      <td>No info</td>\n",
       "      <td>3</td>\n",
       "      <td>32</td>\n",
       "      <td>4</td>\n",
       "      <td>5</td>\n",
       "      <td>5</td>\n",
       "    </tr>\n",
       "    <tr>\n",
       "      <th>3</th>\n",
       "      <td>IndiGo</td>\n",
       "      <td>Kolkata</td>\n",
       "      <td>Banglore</td>\n",
       "      <td>1 stop</td>\n",
       "      <td>No info</td>\n",
       "      <td>2</td>\n",
       "      <td>34</td>\n",
       "      <td>3</td>\n",
       "      <td>13</td>\n",
       "      <td>5</td>\n",
       "    </tr>\n",
       "    <tr>\n",
       "      <th>4</th>\n",
       "      <td>IndiGo</td>\n",
       "      <td>Banglore</td>\n",
       "      <td>New Delhi</td>\n",
       "      <td>1 stop</td>\n",
       "      <td>No info</td>\n",
       "      <td>0</td>\n",
       "      <td>34</td>\n",
       "      <td>8</td>\n",
       "      <td>13</td>\n",
       "      <td>5</td>\n",
       "    </tr>\n",
       "  </tbody>\n",
       "</table>\n",
       "</div>"
      ],
      "text/plain": [
       "       Airline    Source Destination Total_Stops Additional_Info  Route_1  \\\n",
       "0       IndiGo  Banglore   New Delhi    non-stop         No info        0   \n",
       "1    Air India   Kolkata    Banglore     2 stops         No info        2   \n",
       "2  Jet Airways     Delhi      Cochin     2 stops         No info        3   \n",
       "3       IndiGo   Kolkata    Banglore      1 stop         No info        2   \n",
       "4       IndiGo  Banglore   New Delhi      1 stop         No info        0   \n",
       "\n",
       "   Route_2  Route_3  Route_4  Route_5  \n",
       "0       13       29       13        5  \n",
       "1       25        1        3        5  \n",
       "2       32        4        5        5  \n",
       "3       34        3       13        5  \n",
       "4       34        8       13        5  "
      ]
     },
     "execution_count": 66,
     "metadata": {},
     "output_type": "execute_result"
    }
   ],
   "source": [
    "categorical.head()"
   ]
  },
  {
   "cell_type": "code",
   "execution_count": 67,
   "metadata": {},
   "outputs": [
    {
     "name": "stderr",
     "output_type": "stream",
     "text": [
      "C:\\Users\\aravi\\anaconda3\\lib\\site-packages\\pandas\\core\\frame.py:4163: SettingWithCopyWarning: \n",
      "A value is trying to be set on a copy of a slice from a DataFrame\n",
      "\n",
      "See the caveats in the documentation: https://pandas.pydata.org/pandas-docs/stable/user_guide/indexing.html#returning-a-view-versus-a-copy\n",
      "  return super().drop(\n"
     ]
    }
   ],
   "source": [
    "drop_column(categorical,'Additional_Info')"
   ]
  },
  {
   "cell_type": "code",
   "execution_count": 68,
   "metadata": {},
   "outputs": [
    {
     "data": {
      "text/plain": [
       "array(['non-stop', '2 stops', '1 stop', '3 stops', '4 stops'],\n",
       "      dtype=object)"
      ]
     },
     "execution_count": 68,
     "metadata": {},
     "output_type": "execute_result"
    }
   ],
   "source": [
    "categorical['Total_Stops'].unique()\n"
   ]
  },
  {
   "cell_type": "code",
   "execution_count": 69,
   "metadata": {},
   "outputs": [],
   "source": [
    "dic = {'non-stop':0, '2 stops':2, '1 stop':1, '3 stops':3, '4 stops':4}#we use dictionary to change the values"
   ]
  },
  {
   "cell_type": "code",
   "execution_count": 70,
   "metadata": {},
   "outputs": [
    {
     "name": "stderr",
     "output_type": "stream",
     "text": [
      "<ipython-input-70-209cad975ba6>:1: SettingWithCopyWarning: \n",
      "A value is trying to be set on a copy of a slice from a DataFrame.\n",
      "Try using .loc[row_indexer,col_indexer] = value instead\n",
      "\n",
      "See the caveats in the documentation: https://pandas.pydata.org/pandas-docs/stable/user_guide/indexing.html#returning-a-view-versus-a-copy\n",
      "  categorical['Total_Stops'] = categorical['Total_Stops'].map(dic)\n"
     ]
    }
   ],
   "source": [
    "categorical['Total_Stops'] = categorical['Total_Stops'].map(dic)"
   ]
  },
  {
   "cell_type": "code",
   "execution_count": 71,
   "metadata": {},
   "outputs": [
    {
     "data": {
      "text/html": [
       "<div>\n",
       "<style scoped>\n",
       "    .dataframe tbody tr th:only-of-type {\n",
       "        vertical-align: middle;\n",
       "    }\n",
       "\n",
       "    .dataframe tbody tr th {\n",
       "        vertical-align: top;\n",
       "    }\n",
       "\n",
       "    .dataframe thead th {\n",
       "        text-align: right;\n",
       "    }\n",
       "</style>\n",
       "<table border=\"1\" class=\"dataframe\">\n",
       "  <thead>\n",
       "    <tr style=\"text-align: right;\">\n",
       "      <th></th>\n",
       "      <th>Airline</th>\n",
       "      <th>Source</th>\n",
       "      <th>Destination</th>\n",
       "      <th>Total_Stops</th>\n",
       "      <th>Route_1</th>\n",
       "      <th>Route_2</th>\n",
       "      <th>Route_3</th>\n",
       "      <th>Route_4</th>\n",
       "      <th>Route_5</th>\n",
       "    </tr>\n",
       "  </thead>\n",
       "  <tbody>\n",
       "    <tr>\n",
       "      <th>0</th>\n",
       "      <td>IndiGo</td>\n",
       "      <td>Banglore</td>\n",
       "      <td>New Delhi</td>\n",
       "      <td>0</td>\n",
       "      <td>0</td>\n",
       "      <td>13</td>\n",
       "      <td>29</td>\n",
       "      <td>13</td>\n",
       "      <td>5</td>\n",
       "    </tr>\n",
       "    <tr>\n",
       "      <th>1</th>\n",
       "      <td>Air India</td>\n",
       "      <td>Kolkata</td>\n",
       "      <td>Banglore</td>\n",
       "      <td>2</td>\n",
       "      <td>2</td>\n",
       "      <td>25</td>\n",
       "      <td>1</td>\n",
       "      <td>3</td>\n",
       "      <td>5</td>\n",
       "    </tr>\n",
       "    <tr>\n",
       "      <th>2</th>\n",
       "      <td>Jet Airways</td>\n",
       "      <td>Delhi</td>\n",
       "      <td>Cochin</td>\n",
       "      <td>2</td>\n",
       "      <td>3</td>\n",
       "      <td>32</td>\n",
       "      <td>4</td>\n",
       "      <td>5</td>\n",
       "      <td>5</td>\n",
       "    </tr>\n",
       "    <tr>\n",
       "      <th>3</th>\n",
       "      <td>IndiGo</td>\n",
       "      <td>Kolkata</td>\n",
       "      <td>Banglore</td>\n",
       "      <td>1</td>\n",
       "      <td>2</td>\n",
       "      <td>34</td>\n",
       "      <td>3</td>\n",
       "      <td>13</td>\n",
       "      <td>5</td>\n",
       "    </tr>\n",
       "    <tr>\n",
       "      <th>4</th>\n",
       "      <td>IndiGo</td>\n",
       "      <td>Banglore</td>\n",
       "      <td>New Delhi</td>\n",
       "      <td>1</td>\n",
       "      <td>0</td>\n",
       "      <td>34</td>\n",
       "      <td>8</td>\n",
       "      <td>13</td>\n",
       "      <td>5</td>\n",
       "    </tr>\n",
       "  </tbody>\n",
       "</table>\n",
       "</div>"
      ],
      "text/plain": [
       "       Airline    Source Destination  Total_Stops  Route_1  Route_2  Route_3  \\\n",
       "0       IndiGo  Banglore   New Delhi            0        0       13       29   \n",
       "1    Air India   Kolkata    Banglore            2        2       25        1   \n",
       "2  Jet Airways     Delhi      Cochin            2        3       32        4   \n",
       "3       IndiGo   Kolkata    Banglore            1        2       34        3   \n",
       "4       IndiGo  Banglore   New Delhi            1        0       34        8   \n",
       "\n",
       "   Route_4  Route_5  \n",
       "0       13        5  \n",
       "1        3        5  \n",
       "2        5        5  \n",
       "3       13        5  \n",
       "4       13        5  "
      ]
     },
     "execution_count": 71,
     "metadata": {},
     "output_type": "execute_result"
    }
   ],
   "source": [
    "categorical.head()"
   ]
  },
  {
   "cell_type": "code",
   "execution_count": 72,
   "metadata": {},
   "outputs": [],
   "source": [
    "data = pd.concat([categorical,Airline,Source,Destination,data[data_cat]],axis = 1)"
   ]
  },
  {
   "cell_type": "code",
   "execution_count": 73,
   "metadata": {},
   "outputs": [
    {
     "data": {
      "text/html": [
       "<div>\n",
       "<style scoped>\n",
       "    .dataframe tbody tr th:only-of-type {\n",
       "        vertical-align: middle;\n",
       "    }\n",
       "\n",
       "    .dataframe tbody tr th {\n",
       "        vertical-align: top;\n",
       "    }\n",
       "\n",
       "    .dataframe thead th {\n",
       "        text-align: right;\n",
       "    }\n",
       "</style>\n",
       "<table border=\"1\" class=\"dataframe\">\n",
       "  <thead>\n",
       "    <tr style=\"text-align: right;\">\n",
       "      <th></th>\n",
       "      <th>Airline</th>\n",
       "      <th>Source</th>\n",
       "      <th>Destination</th>\n",
       "      <th>Total_Stops</th>\n",
       "      <th>Route_1</th>\n",
       "      <th>Route_2</th>\n",
       "      <th>Route_3</th>\n",
       "      <th>Route_4</th>\n",
       "      <th>Route_5</th>\n",
       "      <th>Air India</th>\n",
       "      <th>...</th>\n",
       "      <th>New Delhi</th>\n",
       "      <th>Price</th>\n",
       "      <th>journey_day</th>\n",
       "      <th>journey_month</th>\n",
       "      <th>Dep_Time_hour</th>\n",
       "      <th>Arrival_Time_hour</th>\n",
       "      <th>Dep_Time_minute</th>\n",
       "      <th>Arrival_Time_minute</th>\n",
       "      <th>Duration_hours</th>\n",
       "      <th>Duration_minute</th>\n",
       "    </tr>\n",
       "  </thead>\n",
       "  <tbody>\n",
       "    <tr>\n",
       "      <th>0</th>\n",
       "      <td>IndiGo</td>\n",
       "      <td>Banglore</td>\n",
       "      <td>New Delhi</td>\n",
       "      <td>0</td>\n",
       "      <td>0</td>\n",
       "      <td>13</td>\n",
       "      <td>29</td>\n",
       "      <td>13</td>\n",
       "      <td>5</td>\n",
       "      <td>0</td>\n",
       "      <td>...</td>\n",
       "      <td>1</td>\n",
       "      <td>3897</td>\n",
       "      <td>24</td>\n",
       "      <td>3</td>\n",
       "      <td>22</td>\n",
       "      <td>1</td>\n",
       "      <td>20</td>\n",
       "      <td>10</td>\n",
       "      <td>2</td>\n",
       "      <td>50</td>\n",
       "    </tr>\n",
       "    <tr>\n",
       "      <th>1</th>\n",
       "      <td>Air India</td>\n",
       "      <td>Kolkata</td>\n",
       "      <td>Banglore</td>\n",
       "      <td>2</td>\n",
       "      <td>2</td>\n",
       "      <td>25</td>\n",
       "      <td>1</td>\n",
       "      <td>3</td>\n",
       "      <td>5</td>\n",
       "      <td>1</td>\n",
       "      <td>...</td>\n",
       "      <td>0</td>\n",
       "      <td>7662</td>\n",
       "      <td>5</td>\n",
       "      <td>1</td>\n",
       "      <td>5</td>\n",
       "      <td>13</td>\n",
       "      <td>50</td>\n",
       "      <td>15</td>\n",
       "      <td>7</td>\n",
       "      <td>25</td>\n",
       "    </tr>\n",
       "    <tr>\n",
       "      <th>2</th>\n",
       "      <td>Jet Airways</td>\n",
       "      <td>Delhi</td>\n",
       "      <td>Cochin</td>\n",
       "      <td>2</td>\n",
       "      <td>3</td>\n",
       "      <td>32</td>\n",
       "      <td>4</td>\n",
       "      <td>5</td>\n",
       "      <td>5</td>\n",
       "      <td>0</td>\n",
       "      <td>...</td>\n",
       "      <td>0</td>\n",
       "      <td>13882</td>\n",
       "      <td>6</td>\n",
       "      <td>9</td>\n",
       "      <td>9</td>\n",
       "      <td>4</td>\n",
       "      <td>25</td>\n",
       "      <td>25</td>\n",
       "      <td>19</td>\n",
       "      <td>0</td>\n",
       "    </tr>\n",
       "    <tr>\n",
       "      <th>3</th>\n",
       "      <td>IndiGo</td>\n",
       "      <td>Kolkata</td>\n",
       "      <td>Banglore</td>\n",
       "      <td>1</td>\n",
       "      <td>2</td>\n",
       "      <td>34</td>\n",
       "      <td>3</td>\n",
       "      <td>13</td>\n",
       "      <td>5</td>\n",
       "      <td>0</td>\n",
       "      <td>...</td>\n",
       "      <td>0</td>\n",
       "      <td>6218</td>\n",
       "      <td>5</td>\n",
       "      <td>12</td>\n",
       "      <td>18</td>\n",
       "      <td>23</td>\n",
       "      <td>5</td>\n",
       "      <td>30</td>\n",
       "      <td>5</td>\n",
       "      <td>25</td>\n",
       "    </tr>\n",
       "    <tr>\n",
       "      <th>4</th>\n",
       "      <td>IndiGo</td>\n",
       "      <td>Banglore</td>\n",
       "      <td>New Delhi</td>\n",
       "      <td>1</td>\n",
       "      <td>0</td>\n",
       "      <td>34</td>\n",
       "      <td>8</td>\n",
       "      <td>13</td>\n",
       "      <td>5</td>\n",
       "      <td>0</td>\n",
       "      <td>...</td>\n",
       "      <td>1</td>\n",
       "      <td>13302</td>\n",
       "      <td>3</td>\n",
       "      <td>1</td>\n",
       "      <td>16</td>\n",
       "      <td>21</td>\n",
       "      <td>50</td>\n",
       "      <td>35</td>\n",
       "      <td>4</td>\n",
       "      <td>45</td>\n",
       "    </tr>\n",
       "  </tbody>\n",
       "</table>\n",
       "<p>5 rows × 38 columns</p>\n",
       "</div>"
      ],
      "text/plain": [
       "       Airline    Source Destination  Total_Stops  Route_1  Route_2  Route_3  \\\n",
       "0       IndiGo  Banglore   New Delhi            0        0       13       29   \n",
       "1    Air India   Kolkata    Banglore            2        2       25        1   \n",
       "2  Jet Airways     Delhi      Cochin            2        3       32        4   \n",
       "3       IndiGo   Kolkata    Banglore            1        2       34        3   \n",
       "4       IndiGo  Banglore   New Delhi            1        0       34        8   \n",
       "\n",
       "   Route_4  Route_5  Air India  ...  New Delhi  Price  journey_day  \\\n",
       "0       13        5          0  ...          1   3897           24   \n",
       "1        3        5          1  ...          0   7662            5   \n",
       "2        5        5          0  ...          0  13882            6   \n",
       "3       13        5          0  ...          0   6218            5   \n",
       "4       13        5          0  ...          1  13302            3   \n",
       "\n",
       "   journey_month  Dep_Time_hour  Arrival_Time_hour  Dep_Time_minute  \\\n",
       "0              3             22                  1               20   \n",
       "1              1              5                 13               50   \n",
       "2              9              9                  4               25   \n",
       "3             12             18                 23                5   \n",
       "4              1             16                 21               50   \n",
       "\n",
       "   Arrival_Time_minute  Duration_hours  Duration_minute  \n",
       "0                   10               2               50  \n",
       "1                   15               7               25  \n",
       "2                   25              19                0  \n",
       "3                   30               5               25  \n",
       "4                   35               4               45  \n",
       "\n",
       "[5 rows x 38 columns]"
      ]
     },
     "execution_count": 73,
     "metadata": {},
     "output_type": "execute_result"
    }
   ],
   "source": [
    "data.head()"
   ]
  },
  {
   "cell_type": "code",
   "execution_count": 74,
   "metadata": {},
   "outputs": [],
   "source": [
    "drop_column(data,'Airline')\n",
    "drop_column(data,'Source')\n",
    "drop_column(data,'Destination')\n",
    "\n"
   ]
  },
  {
   "cell_type": "code",
   "execution_count": 75,
   "metadata": {},
   "outputs": [
    {
     "data": {
      "text/html": [
       "<div>\n",
       "<style scoped>\n",
       "    .dataframe tbody tr th:only-of-type {\n",
       "        vertical-align: middle;\n",
       "    }\n",
       "\n",
       "    .dataframe tbody tr th {\n",
       "        vertical-align: top;\n",
       "    }\n",
       "\n",
       "    .dataframe thead th {\n",
       "        text-align: right;\n",
       "    }\n",
       "</style>\n",
       "<table border=\"1\" class=\"dataframe\">\n",
       "  <thead>\n",
       "    <tr style=\"text-align: right;\">\n",
       "      <th></th>\n",
       "      <th>Total_Stops</th>\n",
       "      <th>Route_1</th>\n",
       "      <th>Route_2</th>\n",
       "      <th>Route_3</th>\n",
       "      <th>Route_4</th>\n",
       "      <th>Route_5</th>\n",
       "      <th>Air India</th>\n",
       "      <th>GoAir</th>\n",
       "      <th>IndiGo</th>\n",
       "      <th>Jet Airways</th>\n",
       "      <th>...</th>\n",
       "      <th>New Delhi</th>\n",
       "      <th>Price</th>\n",
       "      <th>journey_day</th>\n",
       "      <th>journey_month</th>\n",
       "      <th>Dep_Time_hour</th>\n",
       "      <th>Arrival_Time_hour</th>\n",
       "      <th>Dep_Time_minute</th>\n",
       "      <th>Arrival_Time_minute</th>\n",
       "      <th>Duration_hours</th>\n",
       "      <th>Duration_minute</th>\n",
       "    </tr>\n",
       "  </thead>\n",
       "  <tbody>\n",
       "    <tr>\n",
       "      <th>0</th>\n",
       "      <td>0</td>\n",
       "      <td>0</td>\n",
       "      <td>13</td>\n",
       "      <td>29</td>\n",
       "      <td>13</td>\n",
       "      <td>5</td>\n",
       "      <td>0</td>\n",
       "      <td>0</td>\n",
       "      <td>1</td>\n",
       "      <td>0</td>\n",
       "      <td>...</td>\n",
       "      <td>1</td>\n",
       "      <td>3897</td>\n",
       "      <td>24</td>\n",
       "      <td>3</td>\n",
       "      <td>22</td>\n",
       "      <td>1</td>\n",
       "      <td>20</td>\n",
       "      <td>10</td>\n",
       "      <td>2</td>\n",
       "      <td>50</td>\n",
       "    </tr>\n",
       "    <tr>\n",
       "      <th>1</th>\n",
       "      <td>2</td>\n",
       "      <td>2</td>\n",
       "      <td>25</td>\n",
       "      <td>1</td>\n",
       "      <td>3</td>\n",
       "      <td>5</td>\n",
       "      <td>1</td>\n",
       "      <td>0</td>\n",
       "      <td>0</td>\n",
       "      <td>0</td>\n",
       "      <td>...</td>\n",
       "      <td>0</td>\n",
       "      <td>7662</td>\n",
       "      <td>5</td>\n",
       "      <td>1</td>\n",
       "      <td>5</td>\n",
       "      <td>13</td>\n",
       "      <td>50</td>\n",
       "      <td>15</td>\n",
       "      <td>7</td>\n",
       "      <td>25</td>\n",
       "    </tr>\n",
       "    <tr>\n",
       "      <th>2</th>\n",
       "      <td>2</td>\n",
       "      <td>3</td>\n",
       "      <td>32</td>\n",
       "      <td>4</td>\n",
       "      <td>5</td>\n",
       "      <td>5</td>\n",
       "      <td>0</td>\n",
       "      <td>0</td>\n",
       "      <td>0</td>\n",
       "      <td>1</td>\n",
       "      <td>...</td>\n",
       "      <td>0</td>\n",
       "      <td>13882</td>\n",
       "      <td>6</td>\n",
       "      <td>9</td>\n",
       "      <td>9</td>\n",
       "      <td>4</td>\n",
       "      <td>25</td>\n",
       "      <td>25</td>\n",
       "      <td>19</td>\n",
       "      <td>0</td>\n",
       "    </tr>\n",
       "    <tr>\n",
       "      <th>3</th>\n",
       "      <td>1</td>\n",
       "      <td>2</td>\n",
       "      <td>34</td>\n",
       "      <td>3</td>\n",
       "      <td>13</td>\n",
       "      <td>5</td>\n",
       "      <td>0</td>\n",
       "      <td>0</td>\n",
       "      <td>1</td>\n",
       "      <td>0</td>\n",
       "      <td>...</td>\n",
       "      <td>0</td>\n",
       "      <td>6218</td>\n",
       "      <td>5</td>\n",
       "      <td>12</td>\n",
       "      <td>18</td>\n",
       "      <td>23</td>\n",
       "      <td>5</td>\n",
       "      <td>30</td>\n",
       "      <td>5</td>\n",
       "      <td>25</td>\n",
       "    </tr>\n",
       "    <tr>\n",
       "      <th>4</th>\n",
       "      <td>1</td>\n",
       "      <td>0</td>\n",
       "      <td>34</td>\n",
       "      <td>8</td>\n",
       "      <td>13</td>\n",
       "      <td>5</td>\n",
       "      <td>0</td>\n",
       "      <td>0</td>\n",
       "      <td>1</td>\n",
       "      <td>0</td>\n",
       "      <td>...</td>\n",
       "      <td>1</td>\n",
       "      <td>13302</td>\n",
       "      <td>3</td>\n",
       "      <td>1</td>\n",
       "      <td>16</td>\n",
       "      <td>21</td>\n",
       "      <td>50</td>\n",
       "      <td>35</td>\n",
       "      <td>4</td>\n",
       "      <td>45</td>\n",
       "    </tr>\n",
       "  </tbody>\n",
       "</table>\n",
       "<p>5 rows × 35 columns</p>\n",
       "</div>"
      ],
      "text/plain": [
       "   Total_Stops  Route_1  Route_2  Route_3  Route_4  Route_5  Air India  GoAir  \\\n",
       "0            0        0       13       29       13        5          0      0   \n",
       "1            2        2       25        1        3        5          1      0   \n",
       "2            2        3       32        4        5        5          0      0   \n",
       "3            1        2       34        3       13        5          0      0   \n",
       "4            1        0       34        8       13        5          0      0   \n",
       "\n",
       "   IndiGo  Jet Airways  ...  New Delhi  Price  journey_day  journey_month  \\\n",
       "0       1            0  ...          1   3897           24              3   \n",
       "1       0            0  ...          0   7662            5              1   \n",
       "2       0            1  ...          0  13882            6              9   \n",
       "3       1            0  ...          0   6218            5             12   \n",
       "4       1            0  ...          1  13302            3              1   \n",
       "\n",
       "   Dep_Time_hour  Arrival_Time_hour  Dep_Time_minute  Arrival_Time_minute  \\\n",
       "0             22                  1               20                   10   \n",
       "1              5                 13               50                   15   \n",
       "2              9                  4               25                   25   \n",
       "3             18                 23                5                   30   \n",
       "4             16                 21               50                   35   \n",
       "\n",
       "   Duration_hours  Duration_minute  \n",
       "0               2               50  \n",
       "1               7               25  \n",
       "2              19                0  \n",
       "3               5               25  \n",
       "4               4               45  \n",
       "\n",
       "[5 rows x 35 columns]"
      ]
     },
     "execution_count": 75,
     "metadata": {},
     "output_type": "execute_result"
    }
   ],
   "source": [
    "data.head()"
   ]
  },
  {
   "cell_type": "code",
   "execution_count": 76,
   "metadata": {},
   "outputs": [
    {
     "data": {
      "text/html": [
       "<div>\n",
       "<style scoped>\n",
       "    .dataframe tbody tr th:only-of-type {\n",
       "        vertical-align: middle;\n",
       "    }\n",
       "\n",
       "    .dataframe tbody tr th {\n",
       "        vertical-align: top;\n",
       "    }\n",
       "\n",
       "    .dataframe thead th {\n",
       "        text-align: right;\n",
       "    }\n",
       "</style>\n",
       "<table border=\"1\" class=\"dataframe\">\n",
       "  <thead>\n",
       "    <tr style=\"text-align: right;\">\n",
       "      <th></th>\n",
       "      <th>Total_Stops</th>\n",
       "      <th>Route_1</th>\n",
       "      <th>Route_2</th>\n",
       "      <th>Route_3</th>\n",
       "      <th>Route_4</th>\n",
       "      <th>Route_5</th>\n",
       "      <th>Air India</th>\n",
       "      <th>GoAir</th>\n",
       "      <th>IndiGo</th>\n",
       "      <th>Jet Airways</th>\n",
       "      <th>Jet Airways Business</th>\n",
       "      <th>Multiple carriers</th>\n",
       "      <th>Multiple carriers Premium economy</th>\n",
       "      <th>SpiceJet</th>\n",
       "      <th>Trujet</th>\n",
       "      <th>Vistara</th>\n",
       "      <th>Vistara Premium economy</th>\n",
       "      <th>Chennai</th>\n",
       "      <th>Delhi</th>\n",
       "      <th>Kolkata</th>\n",
       "      <th>Mumbai</th>\n",
       "      <th>Cochin</th>\n",
       "      <th>Delhi</th>\n",
       "      <th>Hyderabad</th>\n",
       "      <th>Kolkata</th>\n",
       "      <th>New Delhi</th>\n",
       "      <th>Price</th>\n",
       "      <th>journey_day</th>\n",
       "      <th>journey_month</th>\n",
       "      <th>Dep_Time_hour</th>\n",
       "      <th>Arrival_Time_hour</th>\n",
       "      <th>Dep_Time_minute</th>\n",
       "      <th>Arrival_Time_minute</th>\n",
       "      <th>Duration_hours</th>\n",
       "      <th>Duration_minute</th>\n",
       "    </tr>\n",
       "  </thead>\n",
       "  <tbody>\n",
       "    <tr>\n",
       "      <th>0</th>\n",
       "      <td>0</td>\n",
       "      <td>0</td>\n",
       "      <td>13</td>\n",
       "      <td>29</td>\n",
       "      <td>13</td>\n",
       "      <td>5</td>\n",
       "      <td>0</td>\n",
       "      <td>0</td>\n",
       "      <td>1</td>\n",
       "      <td>0</td>\n",
       "      <td>0</td>\n",
       "      <td>0</td>\n",
       "      <td>0</td>\n",
       "      <td>0</td>\n",
       "      <td>0</td>\n",
       "      <td>0</td>\n",
       "      <td>0</td>\n",
       "      <td>0</td>\n",
       "      <td>0</td>\n",
       "      <td>0</td>\n",
       "      <td>0</td>\n",
       "      <td>0</td>\n",
       "      <td>0</td>\n",
       "      <td>0</td>\n",
       "      <td>0</td>\n",
       "      <td>1</td>\n",
       "      <td>3897</td>\n",
       "      <td>24</td>\n",
       "      <td>3</td>\n",
       "      <td>22</td>\n",
       "      <td>1</td>\n",
       "      <td>20</td>\n",
       "      <td>10</td>\n",
       "      <td>2</td>\n",
       "      <td>50</td>\n",
       "    </tr>\n",
       "    <tr>\n",
       "      <th>1</th>\n",
       "      <td>2</td>\n",
       "      <td>2</td>\n",
       "      <td>25</td>\n",
       "      <td>1</td>\n",
       "      <td>3</td>\n",
       "      <td>5</td>\n",
       "      <td>1</td>\n",
       "      <td>0</td>\n",
       "      <td>0</td>\n",
       "      <td>0</td>\n",
       "      <td>0</td>\n",
       "      <td>0</td>\n",
       "      <td>0</td>\n",
       "      <td>0</td>\n",
       "      <td>0</td>\n",
       "      <td>0</td>\n",
       "      <td>0</td>\n",
       "      <td>0</td>\n",
       "      <td>0</td>\n",
       "      <td>1</td>\n",
       "      <td>0</td>\n",
       "      <td>0</td>\n",
       "      <td>0</td>\n",
       "      <td>0</td>\n",
       "      <td>0</td>\n",
       "      <td>0</td>\n",
       "      <td>7662</td>\n",
       "      <td>5</td>\n",
       "      <td>1</td>\n",
       "      <td>5</td>\n",
       "      <td>13</td>\n",
       "      <td>50</td>\n",
       "      <td>15</td>\n",
       "      <td>7</td>\n",
       "      <td>25</td>\n",
       "    </tr>\n",
       "    <tr>\n",
       "      <th>2</th>\n",
       "      <td>2</td>\n",
       "      <td>3</td>\n",
       "      <td>32</td>\n",
       "      <td>4</td>\n",
       "      <td>5</td>\n",
       "      <td>5</td>\n",
       "      <td>0</td>\n",
       "      <td>0</td>\n",
       "      <td>0</td>\n",
       "      <td>1</td>\n",
       "      <td>0</td>\n",
       "      <td>0</td>\n",
       "      <td>0</td>\n",
       "      <td>0</td>\n",
       "      <td>0</td>\n",
       "      <td>0</td>\n",
       "      <td>0</td>\n",
       "      <td>0</td>\n",
       "      <td>1</td>\n",
       "      <td>0</td>\n",
       "      <td>0</td>\n",
       "      <td>1</td>\n",
       "      <td>0</td>\n",
       "      <td>0</td>\n",
       "      <td>0</td>\n",
       "      <td>0</td>\n",
       "      <td>13882</td>\n",
       "      <td>6</td>\n",
       "      <td>9</td>\n",
       "      <td>9</td>\n",
       "      <td>4</td>\n",
       "      <td>25</td>\n",
       "      <td>25</td>\n",
       "      <td>19</td>\n",
       "      <td>0</td>\n",
       "    </tr>\n",
       "    <tr>\n",
       "      <th>3</th>\n",
       "      <td>1</td>\n",
       "      <td>2</td>\n",
       "      <td>34</td>\n",
       "      <td>3</td>\n",
       "      <td>13</td>\n",
       "      <td>5</td>\n",
       "      <td>0</td>\n",
       "      <td>0</td>\n",
       "      <td>1</td>\n",
       "      <td>0</td>\n",
       "      <td>0</td>\n",
       "      <td>0</td>\n",
       "      <td>0</td>\n",
       "      <td>0</td>\n",
       "      <td>0</td>\n",
       "      <td>0</td>\n",
       "      <td>0</td>\n",
       "      <td>0</td>\n",
       "      <td>0</td>\n",
       "      <td>1</td>\n",
       "      <td>0</td>\n",
       "      <td>0</td>\n",
       "      <td>0</td>\n",
       "      <td>0</td>\n",
       "      <td>0</td>\n",
       "      <td>0</td>\n",
       "      <td>6218</td>\n",
       "      <td>5</td>\n",
       "      <td>12</td>\n",
       "      <td>18</td>\n",
       "      <td>23</td>\n",
       "      <td>5</td>\n",
       "      <td>30</td>\n",
       "      <td>5</td>\n",
       "      <td>25</td>\n",
       "    </tr>\n",
       "    <tr>\n",
       "      <th>4</th>\n",
       "      <td>1</td>\n",
       "      <td>0</td>\n",
       "      <td>34</td>\n",
       "      <td>8</td>\n",
       "      <td>13</td>\n",
       "      <td>5</td>\n",
       "      <td>0</td>\n",
       "      <td>0</td>\n",
       "      <td>1</td>\n",
       "      <td>0</td>\n",
       "      <td>0</td>\n",
       "      <td>0</td>\n",
       "      <td>0</td>\n",
       "      <td>0</td>\n",
       "      <td>0</td>\n",
       "      <td>0</td>\n",
       "      <td>0</td>\n",
       "      <td>0</td>\n",
       "      <td>0</td>\n",
       "      <td>0</td>\n",
       "      <td>0</td>\n",
       "      <td>0</td>\n",
       "      <td>0</td>\n",
       "      <td>0</td>\n",
       "      <td>0</td>\n",
       "      <td>1</td>\n",
       "      <td>13302</td>\n",
       "      <td>3</td>\n",
       "      <td>1</td>\n",
       "      <td>16</td>\n",
       "      <td>21</td>\n",
       "      <td>50</td>\n",
       "      <td>35</td>\n",
       "      <td>4</td>\n",
       "      <td>45</td>\n",
       "    </tr>\n",
       "  </tbody>\n",
       "</table>\n",
       "</div>"
      ],
      "text/plain": [
       "   Total_Stops  Route_1  Route_2  Route_3  Route_4  Route_5  Air India  GoAir  \\\n",
       "0            0        0       13       29       13        5          0      0   \n",
       "1            2        2       25        1        3        5          1      0   \n",
       "2            2        3       32        4        5        5          0      0   \n",
       "3            1        2       34        3       13        5          0      0   \n",
       "4            1        0       34        8       13        5          0      0   \n",
       "\n",
       "   IndiGo  Jet Airways  Jet Airways Business  Multiple carriers  \\\n",
       "0       1            0                     0                  0   \n",
       "1       0            0                     0                  0   \n",
       "2       0            1                     0                  0   \n",
       "3       1            0                     0                  0   \n",
       "4       1            0                     0                  0   \n",
       "\n",
       "   Multiple carriers Premium economy  SpiceJet  Trujet  Vistara  \\\n",
       "0                                  0         0       0        0   \n",
       "1                                  0         0       0        0   \n",
       "2                                  0         0       0        0   \n",
       "3                                  0         0       0        0   \n",
       "4                                  0         0       0        0   \n",
       "\n",
       "   Vistara Premium economy  Chennai  Delhi  Kolkata  Mumbai  Cochin  Delhi  \\\n",
       "0                        0        0      0        0       0       0      0   \n",
       "1                        0        0      0        1       0       0      0   \n",
       "2                        0        0      1        0       0       1      0   \n",
       "3                        0        0      0        1       0       0      0   \n",
       "4                        0        0      0        0       0       0      0   \n",
       "\n",
       "   Hyderabad  Kolkata  New Delhi  Price  journey_day  journey_month  \\\n",
       "0          0        0          1   3897           24              3   \n",
       "1          0        0          0   7662            5              1   \n",
       "2          0        0          0  13882            6              9   \n",
       "3          0        0          0   6218            5             12   \n",
       "4          0        0          1  13302            3              1   \n",
       "\n",
       "   Dep_Time_hour  Arrival_Time_hour  Dep_Time_minute  Arrival_Time_minute  \\\n",
       "0             22                  1               20                   10   \n",
       "1              5                 13               50                   15   \n",
       "2              9                  4               25                   25   \n",
       "3             18                 23                5                   30   \n",
       "4             16                 21               50                   35   \n",
       "\n",
       "   Duration_hours  Duration_minute  \n",
       "0               2               50  \n",
       "1               7               25  \n",
       "2              19                0  \n",
       "3               5               25  \n",
       "4               4               45  "
      ]
     },
     "execution_count": 76,
     "metadata": {},
     "output_type": "execute_result"
    }
   ],
   "source": [
    "pd.set_option('display.max_columns',35)\n",
    "data.head()"
   ]
  },
  {
   "cell_type": "code",
   "execution_count": 77,
   "metadata": {},
   "outputs": [],
   "source": [
    "#whenever you want to see outliers we use two major plots 1.box , 2.Dist"
   ]
  },
  {
   "cell_type": "code",
   "execution_count": 78,
   "metadata": {},
   "outputs": [],
   "source": [
    "def plot(df,col):\n",
    "    #plt.figure(figsize = (15,10))\n",
    "    fig,(ax1,ax2) = plt.subplots(2,1)\n",
    "    sns.distplot(df[col],ax = ax1)\n",
    "    sns.boxplot(df[col],ax = ax2)"
   ]
  },
  {
   "cell_type": "code",
   "execution_count": 79,
   "metadata": {},
   "outputs": [
    {
     "name": "stderr",
     "output_type": "stream",
     "text": [
      "C:\\Users\\aravi\\anaconda3\\lib\\site-packages\\seaborn\\distributions.py:2551: FutureWarning: `distplot` is a deprecated function and will be removed in a future version. Please adapt your code to use either `displot` (a figure-level function with similar flexibility) or `histplot` (an axes-level function for histograms).\n",
      "  warnings.warn(msg, FutureWarning)\n",
      "C:\\Users\\aravi\\anaconda3\\lib\\site-packages\\seaborn\\_decorators.py:36: FutureWarning: Pass the following variable as a keyword arg: x. From version 0.12, the only valid positional argument will be `data`, and passing other arguments without an explicit keyword will result in an error or misinterpretation.\n",
      "  warnings.warn(\n"
     ]
    },
    {
     "data": {
      "image/png": "[encoded data removed]",
      "text/plain": [
       "<Figure size 432x288 with 2 Axes>"
      ]
     },
     "metadata": {
      "needs_background": "light"
     },
     "output_type": "display_data"
    }
   ],
   "source": [
    "plot(data,'Price')"
   ]
  },
  {
   "cell_type": "code",
   "execution_count": 80,
   "metadata": {},
   "outputs": [],
   "source": [
    "data['Price'] = np.where(data['Price']>=40000,data['Price'].median(),data['Price'])#we can consider that after 40000 its a oulier"
   ]
  },
  {
   "cell_type": "code",
   "execution_count": 81,
   "metadata": {},
   "outputs": [
    {
     "name": "stderr",
     "output_type": "stream",
     "text": [
      "C:\\Users\\aravi\\anaconda3\\lib\\site-packages\\seaborn\\distributions.py:2551: FutureWarning: `distplot` is a deprecated function and will be removed in a future version. Please adapt your code to use either `displot` (a figure-level function with similar flexibility) or `histplot` (an axes-level function for histograms).\n",
      "  warnings.warn(msg, FutureWarning)\n",
      "C:\\Users\\aravi\\anaconda3\\lib\\site-packages\\seaborn\\_decorators.py:36: FutureWarning: Pass the following variable as a keyword arg: x. From version 0.12, the only valid positional argument will be `data`, and passing other arguments without an explicit keyword will result in an error or misinterpretation.\n",
      "  warnings.warn(\n"
     ]
    },
    {
     "data": {
      "image/png": "[encoded data removed]",
      "text/plain": [
       "<Figure size 432x288 with 2 Axes>"
      ]
     },
     "metadata": {
      "needs_background": "light"
     },
     "output_type": "display_data"
    }
   ],
   "source": [
    "plot(data,'Price')"
   ]
  },
  {
   "cell_type": "code",
   "execution_count": 82,
   "metadata": {},
   "outputs": [],
   "source": [
    "X = data.drop('Price',axis = 1)\n",
    "y = data['Price']"
   ]
  },
  {
   "cell_type": "markdown",
   "metadata": {},
   "source": [
    "## Feature selection"
   ]
  },
  {
   "cell_type": "code",
   "execution_count": 83,
   "metadata": {},
   "outputs": [],
   "source": [
    "from sklearn.feature_selection import mutual_info_classif#this is the techinque used to find the important feature"
   ]
  },
  {
   "cell_type": "code",
   "execution_count": 84,
   "metadata": {},
   "outputs": [],
   "source": [
    "imp = pd.DataFrame(mutual_info_classif(X,y),index = X.columns)"
   ]
  },
  {
   "cell_type": "code",
   "execution_count": 85,
   "metadata": {},
   "outputs": [
    {
     "data": {
      "text/html": [
       "<div>\n",
       "<style scoped>\n",
       "    .dataframe tbody tr th:only-of-type {\n",
       "        vertical-align: middle;\n",
       "    }\n",
       "\n",
       "    .dataframe tbody tr th {\n",
       "        vertical-align: top;\n",
       "    }\n",
       "\n",
       "    .dataframe thead th {\n",
       "        text-align: right;\n",
       "    }\n",
       "</style>\n",
       "<table border=\"1\" class=\"dataframe\">\n",
       "  <thead>\n",
       "    <tr style=\"text-align: right;\">\n",
       "      <th></th>\n",
       "      <th>0</th>\n",
       "    </tr>\n",
       "  </thead>\n",
       "  <tbody>\n",
       "    <tr>\n",
       "      <th>Total_Stops</th>\n",
       "      <td>2.121815</td>\n",
       "    </tr>\n",
       "    <tr>\n",
       "      <th>Route_1</th>\n",
       "      <td>2.013373</td>\n",
       "    </tr>\n",
       "    <tr>\n",
       "      <th>Route_2</th>\n",
       "      <td>2.807315</td>\n",
       "    </tr>\n",
       "    <tr>\n",
       "      <th>Route_3</th>\n",
       "      <td>2.254281</td>\n",
       "    </tr>\n",
       "    <tr>\n",
       "      <th>Route_4</th>\n",
       "      <td>1.523976</td>\n",
       "    </tr>\n",
       "    <tr>\n",
       "      <th>Route_5</th>\n",
       "      <td>0.719656</td>\n",
       "    </tr>\n",
       "    <tr>\n",
       "      <th>Air India</th>\n",
       "      <td>0.751123</td>\n",
       "    </tr>\n",
       "    <tr>\n",
       "      <th>GoAir</th>\n",
       "      <td>0.093484</td>\n",
       "    </tr>\n",
       "    <tr>\n",
       "      <th>IndiGo</th>\n",
       "      <td>0.655918</td>\n",
       "    </tr>\n",
       "    <tr>\n",
       "      <th>Jet Airways</th>\n",
       "      <td>0.950139</td>\n",
       "    </tr>\n",
       "    <tr>\n",
       "      <th>Jet Airways Business</th>\n",
       "      <td>0.000000</td>\n",
       "    </tr>\n",
       "    <tr>\n",
       "      <th>Multiple carriers</th>\n",
       "      <td>0.569460</td>\n",
       "    </tr>\n",
       "    <tr>\n",
       "      <th>Multiple carriers Premium economy</th>\n",
       "      <td>0.014216</td>\n",
       "    </tr>\n",
       "    <tr>\n",
       "      <th>SpiceJet</th>\n",
       "      <td>0.327744</td>\n",
       "    </tr>\n",
       "    <tr>\n",
       "      <th>Trujet</th>\n",
       "      <td>0.008886</td>\n",
       "    </tr>\n",
       "    <tr>\n",
       "      <th>Vistara</th>\n",
       "      <td>0.227819</td>\n",
       "    </tr>\n",
       "    <tr>\n",
       "      <th>Vistara Premium economy</th>\n",
       "      <td>0.013887</td>\n",
       "    </tr>\n",
       "    <tr>\n",
       "      <th>Chennai</th>\n",
       "      <td>0.163327</td>\n",
       "    </tr>\n",
       "    <tr>\n",
       "      <th>Delhi</th>\n",
       "      <td>1.562018</td>\n",
       "    </tr>\n",
       "    <tr>\n",
       "      <th>Kolkata</th>\n",
       "      <td>0.880185</td>\n",
       "    </tr>\n",
       "    <tr>\n",
       "      <th>Mumbai</th>\n",
       "      <td>0.288520</td>\n",
       "    </tr>\n",
       "    <tr>\n",
       "      <th>Cochin</th>\n",
       "      <td>1.516725</td>\n",
       "    </tr>\n",
       "    <tr>\n",
       "      <th>Delhi</th>\n",
       "      <td>0.402079</td>\n",
       "    </tr>\n",
       "    <tr>\n",
       "      <th>Hyderabad</th>\n",
       "      <td>0.279800</td>\n",
       "    </tr>\n",
       "    <tr>\n",
       "      <th>Kolkata</th>\n",
       "      <td>0.157713</td>\n",
       "    </tr>\n",
       "    <tr>\n",
       "      <th>New Delhi</th>\n",
       "      <td>0.368141</td>\n",
       "    </tr>\n",
       "    <tr>\n",
       "      <th>journey_day</th>\n",
       "      <td>1.048798</td>\n",
       "    </tr>\n",
       "    <tr>\n",
       "      <th>journey_month</th>\n",
       "      <td>0.866037</td>\n",
       "    </tr>\n",
       "    <tr>\n",
       "      <th>Dep_Time_hour</th>\n",
       "      <td>1.435537</td>\n",
       "    </tr>\n",
       "    <tr>\n",
       "      <th>Arrival_Time_hour</th>\n",
       "      <td>1.863729</td>\n",
       "    </tr>\n",
       "    <tr>\n",
       "      <th>Dep_Time_minute</th>\n",
       "      <td>1.210390</td>\n",
       "    </tr>\n",
       "    <tr>\n",
       "      <th>Arrival_Time_minute</th>\n",
       "      <td>1.522528</td>\n",
       "    </tr>\n",
       "    <tr>\n",
       "      <th>Duration_hours</th>\n",
       "      <td>1.757261</td>\n",
       "    </tr>\n",
       "    <tr>\n",
       "      <th>Duration_minute</th>\n",
       "      <td>1.076757</td>\n",
       "    </tr>\n",
       "  </tbody>\n",
       "</table>\n",
       "</div>"
      ],
      "text/plain": [
       "                                          0\n",
       "Total_Stops                        2.121815\n",
       "Route_1                            2.013373\n",
       "Route_2                            2.807315\n",
       "Route_3                            2.254281\n",
       "Route_4                            1.523976\n",
       "Route_5                            0.719656\n",
       "Air India                          0.751123\n",
       "GoAir                              0.093484\n",
       "IndiGo                             0.655918\n",
       "Jet Airways                        0.950139\n",
       "Jet Airways Business               0.000000\n",
       "Multiple carriers                  0.569460\n",
       "Multiple carriers Premium economy  0.014216\n",
       "SpiceJet                           0.327744\n",
       "Trujet                             0.008886\n",
       "Vistara                            0.227819\n",
       "Vistara Premium economy            0.013887\n",
       "Chennai                            0.163327\n",
       "Delhi                              1.562018\n",
       "Kolkata                            0.880185\n",
       "Mumbai                             0.288520\n",
       "Cochin                             1.516725\n",
       "Delhi                              0.402079\n",
       "Hyderabad                          0.279800\n",
       "Kolkata                            0.157713\n",
       "New Delhi                          0.368141\n",
       "journey_day                        1.048798\n",
       "journey_month                      0.866037\n",
       "Dep_Time_hour                      1.435537\n",
       "Arrival_Time_hour                  1.863729\n",
       "Dep_Time_minute                    1.210390\n",
       "Arrival_Time_minute                1.522528\n",
       "Duration_hours                     1.757261\n",
       "Duration_minute                    1.076757"
      ]
     },
     "execution_count": 85,
     "metadata": {},
     "output_type": "execute_result"
    }
   ],
   "source": [
    "imp"
   ]
  },
  {
   "cell_type": "code",
   "execution_count": 86,
   "metadata": {},
   "outputs": [],
   "source": [
    "imp.columns = ['importance']\n"
   ]
  },
  {
   "cell_type": "code",
   "execution_count": 87,
   "metadata": {},
   "outputs": [
    {
     "data": {
      "text/html": [
       "<div>\n",
       "<style scoped>\n",
       "    .dataframe tbody tr th:only-of-type {\n",
       "        vertical-align: middle;\n",
       "    }\n",
       "\n",
       "    .dataframe tbody tr th {\n",
       "        vertical-align: top;\n",
       "    }\n",
       "\n",
       "    .dataframe thead th {\n",
       "        text-align: right;\n",
       "    }\n",
       "</style>\n",
       "<table border=\"1\" class=\"dataframe\">\n",
       "  <thead>\n",
       "    <tr style=\"text-align: right;\">\n",
       "      <th></th>\n",
       "      <th>importance</th>\n",
       "    </tr>\n",
       "  </thead>\n",
       "  <tbody>\n",
       "    <tr>\n",
       "      <th>Route_2</th>\n",
       "      <td>2.807315</td>\n",
       "    </tr>\n",
       "    <tr>\n",
       "      <th>Route_3</th>\n",
       "      <td>2.254281</td>\n",
       "    </tr>\n",
       "    <tr>\n",
       "      <th>Total_Stops</th>\n",
       "      <td>2.121815</td>\n",
       "    </tr>\n",
       "    <tr>\n",
       "      <th>Route_1</th>\n",
       "      <td>2.013373</td>\n",
       "    </tr>\n",
       "    <tr>\n",
       "      <th>Arrival_Time_hour</th>\n",
       "      <td>1.863729</td>\n",
       "    </tr>\n",
       "    <tr>\n",
       "      <th>Duration_hours</th>\n",
       "      <td>1.757261</td>\n",
       "    </tr>\n",
       "    <tr>\n",
       "      <th>Delhi</th>\n",
       "      <td>1.562018</td>\n",
       "    </tr>\n",
       "    <tr>\n",
       "      <th>Route_4</th>\n",
       "      <td>1.523976</td>\n",
       "    </tr>\n",
       "    <tr>\n",
       "      <th>Arrival_Time_minute</th>\n",
       "      <td>1.522528</td>\n",
       "    </tr>\n",
       "    <tr>\n",
       "      <th>Cochin</th>\n",
       "      <td>1.516725</td>\n",
       "    </tr>\n",
       "    <tr>\n",
       "      <th>Dep_Time_hour</th>\n",
       "      <td>1.435537</td>\n",
       "    </tr>\n",
       "    <tr>\n",
       "      <th>Dep_Time_minute</th>\n",
       "      <td>1.210390</td>\n",
       "    </tr>\n",
       "    <tr>\n",
       "      <th>Duration_minute</th>\n",
       "      <td>1.076757</td>\n",
       "    </tr>\n",
       "    <tr>\n",
       "      <th>journey_day</th>\n",
       "      <td>1.048798</td>\n",
       "    </tr>\n",
       "    <tr>\n",
       "      <th>Jet Airways</th>\n",
       "      <td>0.950139</td>\n",
       "    </tr>\n",
       "    <tr>\n",
       "      <th>Kolkata</th>\n",
       "      <td>0.880185</td>\n",
       "    </tr>\n",
       "    <tr>\n",
       "      <th>journey_month</th>\n",
       "      <td>0.866037</td>\n",
       "    </tr>\n",
       "    <tr>\n",
       "      <th>Air India</th>\n",
       "      <td>0.751123</td>\n",
       "    </tr>\n",
       "    <tr>\n",
       "      <th>Route_5</th>\n",
       "      <td>0.719656</td>\n",
       "    </tr>\n",
       "    <tr>\n",
       "      <th>IndiGo</th>\n",
       "      <td>0.655918</td>\n",
       "    </tr>\n",
       "    <tr>\n",
       "      <th>Multiple carriers</th>\n",
       "      <td>0.569460</td>\n",
       "    </tr>\n",
       "    <tr>\n",
       "      <th>Delhi</th>\n",
       "      <td>0.402079</td>\n",
       "    </tr>\n",
       "    <tr>\n",
       "      <th>New Delhi</th>\n",
       "      <td>0.368141</td>\n",
       "    </tr>\n",
       "    <tr>\n",
       "      <th>SpiceJet</th>\n",
       "      <td>0.327744</td>\n",
       "    </tr>\n",
       "    <tr>\n",
       "      <th>Mumbai</th>\n",
       "      <td>0.288520</td>\n",
       "    </tr>\n",
       "    <tr>\n",
       "      <th>Hyderabad</th>\n",
       "      <td>0.279800</td>\n",
       "    </tr>\n",
       "    <tr>\n",
       "      <th>Vistara</th>\n",
       "      <td>0.227819</td>\n",
       "    </tr>\n",
       "    <tr>\n",
       "      <th>Chennai</th>\n",
       "      <td>0.163327</td>\n",
       "    </tr>\n",
       "    <tr>\n",
       "      <th>Kolkata</th>\n",
       "      <td>0.157713</td>\n",
       "    </tr>\n",
       "    <tr>\n",
       "      <th>GoAir</th>\n",
       "      <td>0.093484</td>\n",
       "    </tr>\n",
       "    <tr>\n",
       "      <th>Multiple carriers Premium economy</th>\n",
       "      <td>0.014216</td>\n",
       "    </tr>\n",
       "    <tr>\n",
       "      <th>Vistara Premium economy</th>\n",
       "      <td>0.013887</td>\n",
       "    </tr>\n",
       "    <tr>\n",
       "      <th>Trujet</th>\n",
       "      <td>0.008886</td>\n",
       "    </tr>\n",
       "    <tr>\n",
       "      <th>Jet Airways Business</th>\n",
       "      <td>0.000000</td>\n",
       "    </tr>\n",
       "  </tbody>\n",
       "</table>\n",
       "</div>"
      ],
      "text/plain": [
       "                                   importance\n",
       "Route_2                              2.807315\n",
       "Route_3                              2.254281\n",
       "Total_Stops                          2.121815\n",
       "Route_1                              2.013373\n",
       "Arrival_Time_hour                    1.863729\n",
       "Duration_hours                       1.757261\n",
       "Delhi                                1.562018\n",
       "Route_4                              1.523976\n",
       "Arrival_Time_minute                  1.522528\n",
       "Cochin                               1.516725\n",
       "Dep_Time_hour                        1.435537\n",
       "Dep_Time_minute                      1.210390\n",
       "Duration_minute                      1.076757\n",
       "journey_day                          1.048798\n",
       "Jet Airways                          0.950139\n",
       "Kolkata                              0.880185\n",
       "journey_month                        0.866037\n",
       "Air India                            0.751123\n",
       "Route_5                              0.719656\n",
       "IndiGo                               0.655918\n",
       "Multiple carriers                    0.569460\n",
       "Delhi                                0.402079\n",
       "New Delhi                            0.368141\n",
       "SpiceJet                             0.327744\n",
       "Mumbai                               0.288520\n",
       "Hyderabad                            0.279800\n",
       "Vistara                              0.227819\n",
       "Chennai                              0.163327\n",
       "Kolkata                              0.157713\n",
       "GoAir                                0.093484\n",
       "Multiple carriers Premium economy    0.014216\n",
       "Vistara Premium economy              0.013887\n",
       "Trujet                               0.008886\n",
       "Jet Airways Business                 0.000000"
      ]
     },
     "execution_count": 87,
     "metadata": {},
     "output_type": "execute_result"
    }
   ],
   "source": [
    "imp.sort_values(by = 'importance', ascending = False)#"
   ]
  },
  {
   "cell_type": "markdown",
   "metadata": {},
   "source": [
    "## let's start the prediction"
   ]
  },
  {
   "cell_type": "code",
   "execution_count": 88,
   "metadata": {},
   "outputs": [],
   "source": [
    "from sklearn.model_selection import train_test_split"
   ]
  },
  {
   "cell_type": "code",
   "execution_count": 89,
   "metadata": {},
   "outputs": [],
   "source": [
    "X_train, X_test, y_train, y_test = train_test_split(X,y,test_size = 0.2)"
   ]
  },
  {
   "cell_type": "code",
   "execution_count": 90,
   "metadata": {},
   "outputs": [],
   "source": [
    "from sklearn import metrics"
   ]
  },
  {
   "cell_type": "code",
   "execution_count": 140,
   "metadata": {},
   "outputs": [],
   "source": [
    "import pickle\n",
    "def Model(ml_model,dump): #create a function for all models\n",
    "    model = ml_model.fit(X_train,y_train)\n",
    "    print('Trainning_score: {}'.format(model.score(X_train,y_train)))\n",
    "    y_prediction = model.predict(X_test)\n",
    "    print('Predictions are {}:\\n'.format(y_prediction))\n",
    "    r_score = metrics.r2_score(y_test,y_prediction)\n",
    "    print('R2 Score is {}'.format(r_score))\n",
    "    print('MAE IS :', metrics.mean_absolute_error(y_test,y_prediction))\n",
    "    print('MSE IS :', metrics.mean_squared_error(y_test,y_prediction))\n",
    "    print('RMSE IS :', np.sqrt(metrics.mean_absolute_error(y_test,y_prediction)))\n",
    "    sns.distplot(y_test-y_prediction)\n",
    "    if dump == 1:\n",
    "        file = open('C:/Users/aravi/Downloads/predict_fair_airline_datasets/Model.pkl','wb')\n",
    "        pickle.dump(Model,file)\n"
   ]
  },
  {
   "cell_type": "code",
   "execution_count": 92,
   "metadata": {},
   "outputs": [],
   "source": [
    "from sklearn.ensemble import RandomForestClassifier"
   ]
  },
  {
   "cell_type": "code",
   "execution_count": 93,
   "metadata": {},
   "outputs": [
    {
     "name": "stdout",
     "output_type": "stream",
     "text": [
      "Trainning_score: 0.8882387361029842\n",
      "Predictions are [12898.  8529. 14714. ... 11245. 15764. 11150.]:\n",
      "\n",
      "R2 Score is 0.658537588873984\n",
      "MAE IS : 1440.3570425830603\n",
      "MSE IS : 6514888.194197473\n",
      "RMSE IS : 37.95203607954467\n"
     ]
    },
    {
     "name": "stderr",
     "output_type": "stream",
     "text": [
      "C:\\Users\\aravi\\anaconda3\\lib\\site-packages\\seaborn\\distributions.py:2551: FutureWarning: `distplot` is a deprecated function and will be removed in a future version. Please adapt your code to use either `displot` (a figure-level function with similar flexibility) or `histplot` (an axes-level function for histograms).\n",
      "  warnings.warn(msg, FutureWarning)\n"
     ]
    },
    {
     "data": {
      "image/png": "[encoded data removed]",
      "text/plain": [
       "<Figure size 432x288 with 1 Axes>"
      ]
     },
     "metadata": {
      "needs_background": "light"
     },
     "output_type": "display_data"
    }
   ],
   "source": [
    "Model(RandomForestClassifier())"
   ]
  },
  {
   "cell_type": "code",
   "execution_count": 94,
   "metadata": {},
   "outputs": [],
   "source": [
    "#usually my lap took more time to do this, if you have good one play around various number techinques you known "
   ]
  },
  {
   "cell_type": "code",
   "execution_count": null,
   "metadata": {},
   "outputs": [],
   "source": []
  },
  {
   "cell_type": "code",
   "execution_count": 110,
   "metadata": {},
   "outputs": [],
   "source": [
    "from sklearn.linear_model import LinearRegression\n",
    "from sklearn.neighbors import KNeighborsRegressor\n",
    "from sklearn.tree import DecisionTreeRegressor\n"
   ]
  },
  {
   "cell_type": "code",
   "execution_count": 100,
   "metadata": {},
   "outputs": [
    {
     "name": "stdout",
     "output_type": "stream",
     "text": [
      "Trainning_score: 0.6196543396258971\n",
      "Predictions are [10785.32964395 11434.78175186 12408.81879662 ... 16423.35569334\n",
      " 12425.59093102 13909.08821934]:\n",
      "\n",
      "R2 Score is 0.598595599146022\n",
      "MAE IS : 1978.896096667158\n",
      "MSE IS : 7658543.684497654\n",
      "RMSE IS : 44.48478500192125\n"
     ]
    },
    {
     "name": "stderr",
     "output_type": "stream",
     "text": [
      "C:\\Users\\aravi\\anaconda3\\lib\\site-packages\\seaborn\\distributions.py:2551: FutureWarning: `distplot` is a deprecated function and will be removed in a future version. Please adapt your code to use either `displot` (a figure-level function with similar flexibility) or `histplot` (an axes-level function for histograms).\n",
      "  warnings.warn(msg, FutureWarning)\n"
     ]
    },
    {
     "data": {
      "image/png": "[encoded data removed]",
      "text/plain": [
       "<Figure size 432x288 with 1 Axes>"
      ]
     },
     "metadata": {
      "needs_background": "light"
     },
     "output_type": "display_data"
    }
   ],
   "source": [
    "Model(LinearRegression(),0)"
   ]
  },
  {
   "cell_type": "code",
   "execution_count": 141,
   "metadata": {},
   "outputs": [
    {
     "name": "stdout",
     "output_type": "stream",
     "text": [
      "Trainning_score: 0.9678970587253048\n",
      "Predictions are [12898.          8529.         14714.         ... 11245.\n",
      " 15764.         13102.66666667]:\n",
      "\n",
      "R2 Score is 0.689802357976377\n",
      "MAE IS : 1338.195367337389\n",
      "MSE IS : 5918376.049719232\n",
      "RMSE IS : 36.58135272700272\n"
     ]
    },
    {
     "name": "stderr",
     "output_type": "stream",
     "text": [
      "C:\\Users\\aravi\\anaconda3\\lib\\site-packages\\seaborn\\distributions.py:2551: FutureWarning: `distplot` is a deprecated function and will be removed in a future version. Please adapt your code to use either `displot` (a figure-level function with similar flexibility) or `histplot` (an axes-level function for histograms).\n",
      "  warnings.warn(msg, FutureWarning)\n"
     ]
    },
    {
     "data": {
      "image/png": "[encoded data removed]",
      "text/plain": [
       "<Figure size 432x288 with 1 Axes>"
      ]
     },
     "metadata": {
      "needs_background": "light"
     },
     "output_type": "display_data"
    }
   ],
   "source": [
    "Model(DecisionTreeRegressor(),1)"
   ]
  },
  {
   "cell_type": "code",
   "execution_count": 103,
   "metadata": {},
   "outputs": [
    {
     "name": "stdout",
     "output_type": "stream",
     "text": [
      "Trainning_score: 0.7834318006850665\n",
      "Predictions are [11316.4  9645.6 11885.2 ...  6174.2 15436.6 13451.2]:\n",
      "\n",
      "R2 Score is 0.6250978076792748\n",
      "MAE IS : 1771.9811885821243\n",
      "MSE IS : 7152898.2023958815\n",
      "RMSE IS : 42.09490691974653\n"
     ]
    },
    {
     "name": "stderr",
     "output_type": "stream",
     "text": [
      "C:\\Users\\aravi\\anaconda3\\lib\\site-packages\\seaborn\\distributions.py:2551: FutureWarning: `distplot` is a deprecated function and will be removed in a future version. Please adapt your code to use either `displot` (a figure-level function with similar flexibility) or `histplot` (an axes-level function for histograms).\n",
      "  warnings.warn(msg, FutureWarning)\n"
     ]
    },
    {
     "data": {
      "image/png": "[encoded data removed]",
      "text/plain": [
       "<Figure size 432x288 with 1 Axes>"
      ]
     },
     "metadata": {
      "needs_background": "light"
     },
     "output_type": "display_data"
    }
   ],
   "source": [
    "Model(KNeighborsRegressor(),0)"
   ]
  },
  {
   "cell_type": "code",
   "execution_count": 109,
   "metadata": {},
   "outputs": [],
   "source": [
    "#lets do the hyperparameter tunning .........................."
   ]
  },
  {
   "cell_type": "code",
   "execution_count": 111,
   "metadata": {},
   "outputs": [],
   "source": [
    "from sklearn.model_selection import RandomizedSearchCVdata:image/png;base64,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"
   ]
  },
  {
   "cell_type": "code",
   "execution_count": 113,
   "metadata": {},
   "outputs": [],
   "source": [
    "\n",
    "RandomizedSearchCV()"
   ]
  },
  {
   "cell_type": "code",
   "execution_count": 114,
   "metadata": {},
   "outputs": [],
   "source": [
    "n_estimators = [int(x) for x in np.linspace(100,1200,6)]\n",
    "max_depth = [int(x) for x in np.linspace(5,30,4)]"
   ]
  },
  {
   "cell_type": "code",
   "execution_count": 119,
   "metadata": {},
   "outputs": [],
   "source": [
    "random_grid = {\n",
    "    'n_estimators' : n_estimators,\n",
    "    'max_features' : ['auto','sqrt'], #nr of split to consider at every node\n",
    "    'max_depth' : max_depth,\n",
    "    'min_samples_split' : [5,10,15,100] #min number of split required to split the node\n",
    "}"
   ]
  },
  {
   "cell_type": "code",
   "execution_count": 120,
   "metadata": {},
   "outputs": [
    {
     "data": {
      "application/javascript": [
       "\n",
       "        if (window._pyforest_update_imports_cell) { window._pyforest_update_imports_cell('from sklearn.ensemble import RandomForestRegressor'); }\n",
       "    "
      ],
      "text/plain": [
       "<IPython.core.display.Javascript object>"
      ]
     },
     "metadata": {},
     "output_type": "display_data"
    }
   ],
   "source": [
    "rf = RandomForestRegressor()"
   ]
  },
  {
   "cell_type": "code",
   "execution_count": 121,
   "metadata": {},
   "outputs": [],
   "source": [
    "rands = RandomizedSearchCV(estimator = rf,param_distributions = random_grid,cv = 3, verbose = 2,n_jobs = -1)"
   ]
  },
  {
   "cell_type": "code",
   "execution_count": 122,
   "metadata": {},
   "outputs": [
    {
     "name": "stdout",
     "output_type": "stream",
     "text": [
      "Fitting 3 folds for each of 10 candidates, totalling 30 fits\n"
     ]
    },
    {
     "data": {
      "text/plain": [
       "RandomizedSearchCV(cv=3, estimator=RandomForestRegressor(), n_jobs=-1,\n",
       "                   param_distributions={'max_depth': [5, 13, 21, 30],\n",
       "                                        'max_features': ['auto', 'sqrt'],\n",
       "                                        'min_samples_split': [5, 10, 15, 100],\n",
       "                                        'n_estimators': [100, 320, 540, 760,\n",
       "                                                         980, 1200]},\n",
       "                   verbose=2)"
      ]
     },
     "execution_count": 122,
     "metadata": {},
     "output_type": "execute_result"
    }
   ],
   "source": [
    "rands.fit(X_train,y_train)"
   ]
  },
  {
   "cell_type": "code",
   "execution_count": 123,
   "metadata": {},
   "outputs": [
    {
     "data": {
      "text/plain": [
       "{'n_estimators': 320,\n",
       " 'min_samples_split': 15,\n",
       " 'max_features': 'auto',\n",
       " 'max_depth': 13}"
      ]
     },
     "execution_count": 123,
     "metadata": {},
     "output_type": "execute_result"
    }
   ],
   "source": [
    "rands.best_params_"
   ]
  },
  {
   "cell_type": "code",
   "execution_count": 125,
   "metadata": {},
   "outputs": [],
   "source": [
    "pre = rands.predict(X_test)"
   ]
  },
  {
   "cell_type": "code",
   "execution_count": 126,
   "metadata": {},
   "outputs": [
    {
     "name": "stderr",
     "output_type": "stream",
     "text": [
      "C:\\Users\\aravi\\anaconda3\\lib\\site-packages\\seaborn\\distributions.py:2551: FutureWarning: `distplot` is a deprecated function and will be removed in a future version. Please adapt your code to use either `displot` (a figure-level function with similar flexibility) or `histplot` (an axes-level function for histograms).\n",
      "  warnings.warn(msg, FutureWarning)\n"
     ]
    },
    {
     "data": {
      "text/plain": [
       "<AxesSubplot:xlabel='Price', ylabel='Density'>"
      ]
     },
     "execution_count": 126,
     "metadata": {},
     "output_type": "execute_result"
    },
    {
     "data": {
      "image/png": "[encoded data removed]",
      "text/plain": [
       "<Figure size 432x288 with 1 Axes>"
      ]
     },
     "metadata": {
      "needs_background": "light"
     },
     "output_type": "display_data"
    }
   ],
   "source": [
    "sns.distplot(y_test-pre)"
   ]
  },
  {
   "cell_type": "code",
   "execution_count": 127,
   "metadata": {},
   "outputs": [
    {
     "data": {
      "text/plain": [
       "0.834477109865371"
      ]
     },
     "execution_count": 127,
     "metadata": {},
     "output_type": "execute_result"
    }
   ],
   "source": [
    "metrics.r2_score(y_test, pre)"
   ]
  },
  {
   "cell_type": "code",
   "execution_count": 151,
   "metadata": {},
   "outputs": [],
   "source": [
    "fi = open('C:/Users/aravi/Downloads/predict_fair_airline_datasets/rands.pkl','wb')\n",
    "pickle.dump(rands,fi)"
   ]
  },
  {
   "cell_type": "code",
   "execution_count": 146,
   "metadata": {},
   "outputs": [],
   "source": [
    "fe = open('C:/Users/aravi/Downloads/predict_fair_airline_datasets/Model.pkl','rb')\n",
    "forest = pickle.load(fe)"
   ]
  },
  {
   "cell_type": "code",
   "execution_count": 154,
   "metadata": {},
   "outputs": [],
   "source": [
    "er = open('C:/Users/aravi/Downloads/predict_fair_airline_datasets/rands.pkl','rb')\n",
    "dd = pickle.load(er)"
   ]
  },
  {
   "cell_type": "code",
   "execution_count": 155,
   "metadata": {},
   "outputs": [],
   "source": [
    "sd = dd.predict(X_test)"
   ]
  },
  {
   "cell_type": "code",
   "execution_count": 156,
   "metadata": {},
   "outputs": [
    {
     "data": {
      "text/plain": [
       "array([12680.42937133, 10501.14573443, 13333.94085194, ...,\n",
       "       12002.44347022, 14742.29210826, 13117.50318062])"
      ]
     },
     "execution_count": 156,
     "metadata": {},
     "output_type": "execute_result"
    }
   ],
   "source": [
    "sd"
   ]
  },
  {
   "cell_type": "code",
   "execution_count": 157,
   "metadata": {},
   "outputs": [
    {
     "data": {
      "text/plain": [
       "0.834477109865371"
      ]
     },
     "execution_count": 157,
     "metadata": {},
     "output_type": "execute_result"
    }
   ],
   "source": [
    "metrics.r2_score(y_test,sd)#same we get in last "
   ]
  },
  {
   "cell_type": "code",
   "execution_count": null,
   "metadata": {},
   "outputs": [],
   "source": []
  }
 ],
 "metadata": {
  "kernelspec": {
   "display_name": "Python 3",
   "language": "python",
   "name": "python3"
  },
  "language_info": {
   "codemirror_mode": {
    "name": "ipython",
    "version": 3
   },
   "file_extension": ".py",
   "mimetype": "text/x-python",
   "name": "python",
   "nbconvert_exporter": "python",
   "pygments_lexer": "ipython3",
   "version": "3.8.5"
  }
 },
 "nbformat": 4,
 "nbformat_minor": 4
}
