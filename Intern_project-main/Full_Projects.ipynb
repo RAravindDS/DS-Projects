{
 "cells": [
  {
   "cell_type": "markdown",
   "id": "4f3e1765",
   "metadata": {},
   "source": [
    "### Hi Sir! I didn't upload the csv files. File is too Large."
   ]
  },
  {
   "cell_type": "code",
   "execution_count": 1,
   "id": "e6999994",
   "metadata": {},
   "outputs": [],
   "source": [
    "import pandas as pd\n",
    "import numpy as np"
   ]
  },
  {
   "cell_type": "code",
   "execution_count": 2,
   "id": "06c04740",
   "metadata": {},
   "outputs": [],
   "source": [
    "label_1 = pd.read_csv('1_label_train.csv')\n",
    "label_2 = pd.read_csv('2_label_test.csv')\n",
    "label_3 = pd.read_csv('3_label_train.csv')\n",
    "label_4 = pd.read_csv('4_label_train.csv')\n",
    "label_5 = pd.read_csv('5_label_train.csv')\n",
    "label_6 = pd.read_csv('6_label_train.csv')\n",
    "label_7 = pd.read_csv('7_label_train.csv')\n",
    "label_8 = pd.read_csv('8_label_train.csv')\n",
    "label_9 = pd.read_csv('9_label_train.csv')"
   ]
  },
  {
   "cell_type": "code",
   "execution_count": 3,
   "id": "bd52f4b9",
   "metadata": {},
   "outputs": [],
   "source": [
    "Data = pd.concat([label_1, label_2, label_3, label_4, label_5, label_6, label_7, label_8, label_9], axis = 0)"
   ]
  },
  {
   "cell_type": "code",
   "execution_count": 4,
   "id": "3f819333",
   "metadata": {},
   "outputs": [],
   "source": [
    "Data.to_csv('internshala')"
   ]
  },
  {
   "cell_type": "code",
   "execution_count": 4,
   "id": "9e4f96ce",
   "metadata": {},
   "outputs": [
    {
     "data": {
      "text/html": [
       "<div>\n",
       "<style scoped>\n",
       "    .dataframe tbody tr th:only-of-type {\n",
       "        vertical-align: middle;\n",
       "    }\n",
       "\n",
       "    .dataframe tbody tr th {\n",
       "        vertical-align: top;\n",
       "    }\n",
       "\n",
       "    .dataframe thead th {\n",
       "        text-align: right;\n",
       "    }\n",
       "</style>\n",
       "<table border=\"1\" class=\"dataframe\">\n",
       "  <thead>\n",
       "    <tr style=\"text-align: right;\">\n",
       "      <th></th>\n",
       "      <th>time</th>\n",
       "      <th>acc_x</th>\n",
       "      <th>acc_y</th>\n",
       "      <th>acc_z</th>\n",
       "      <th>gyr_x</th>\n",
       "      <th>gyr_y</th>\n",
       "      <th>gyr_z</th>\n",
       "      <th>mag_x</th>\n",
       "      <th>mag_y</th>\n",
       "      <th>mag_z</th>\n",
       "      <th>label</th>\n",
       "    </tr>\n",
       "  </thead>\n",
       "  <tbody>\n",
       "    <tr>\n",
       "      <th>0</th>\n",
       "      <td>1628396340</td>\n",
       "      <td>-0.246582</td>\n",
       "      <td>-0.989258</td>\n",
       "      <td>0.291504</td>\n",
       "      <td>8.056641</td>\n",
       "      <td>-3.234863</td>\n",
       "      <td>-9.277344</td>\n",
       "      <td>-169.5</td>\n",
       "      <td>-64.5</td>\n",
       "      <td>-475.5</td>\n",
       "      <td>1</td>\n",
       "    </tr>\n",
       "    <tr>\n",
       "      <th>1</th>\n",
       "      <td>1628396340</td>\n",
       "      <td>-0.237305</td>\n",
       "      <td>-1.012695</td>\n",
       "      <td>0.256836</td>\n",
       "      <td>7.812500</td>\n",
       "      <td>3.967285</td>\n",
       "      <td>-9.399414</td>\n",
       "      <td>-196.5</td>\n",
       "      <td>-57.0</td>\n",
       "      <td>-471.0</td>\n",
       "      <td>1</td>\n",
       "    </tr>\n",
       "    <tr>\n",
       "      <th>2</th>\n",
       "      <td>1628396340</td>\n",
       "      <td>-0.238769</td>\n",
       "      <td>-0.988770</td>\n",
       "      <td>0.274414</td>\n",
       "      <td>7.019043</td>\n",
       "      <td>5.554199</td>\n",
       "      <td>-10.253906</td>\n",
       "      <td>-198.0</td>\n",
       "      <td>-67.5</td>\n",
       "      <td>-465.0</td>\n",
       "      <td>1</td>\n",
       "    </tr>\n",
       "    <tr>\n",
       "      <th>3</th>\n",
       "      <td>1628396340</td>\n",
       "      <td>-0.243652</td>\n",
       "      <td>-0.967285</td>\n",
       "      <td>0.297363</td>\n",
       "      <td>6.103516</td>\n",
       "      <td>5.859375</td>\n",
       "      <td>-10.437012</td>\n",
       "      <td>-180.0</td>\n",
       "      <td>-49.5</td>\n",
       "      <td>-483.0</td>\n",
       "      <td>1</td>\n",
       "    </tr>\n",
       "    <tr>\n",
       "      <th>4</th>\n",
       "      <td>1628396340</td>\n",
       "      <td>-0.255371</td>\n",
       "      <td>-0.977051</td>\n",
       "      <td>0.305176</td>\n",
       "      <td>3.723145</td>\n",
       "      <td>5.126953</td>\n",
       "      <td>-9.948730</td>\n",
       "      <td>-192.0</td>\n",
       "      <td>-46.5</td>\n",
       "      <td>-468.0</td>\n",
       "      <td>1</td>\n",
       "    </tr>\n",
       "  </tbody>\n",
       "</table>\n",
       "</div>"
      ],
      "text/plain": [
       "         time     acc_x     acc_y     acc_z     gyr_x     gyr_y      gyr_z  \\\n",
       "0  1628396340 -0.246582 -0.989258  0.291504  8.056641 -3.234863  -9.277344   \n",
       "1  1628396340 -0.237305 -1.012695  0.256836  7.812500  3.967285  -9.399414   \n",
       "2  1628396340 -0.238769 -0.988770  0.274414  7.019043  5.554199 -10.253906   \n",
       "3  1628396340 -0.243652 -0.967285  0.297363  6.103516  5.859375 -10.437012   \n",
       "4  1628396340 -0.255371 -0.977051  0.305176  3.723145  5.126953  -9.948730   \n",
       "\n",
       "   mag_x  mag_y  mag_z  label  \n",
       "0 -169.5  -64.5 -475.5      1  \n",
       "1 -196.5  -57.0 -471.0      1  \n",
       "2 -198.0  -67.5 -465.0      1  \n",
       "3 -180.0  -49.5 -483.0      1  \n",
       "4 -192.0  -46.5 -468.0      1  "
      ]
     },
     "execution_count": 4,
     "metadata": {},
     "output_type": "execute_result"
    }
   ],
   "source": [
    "Data.head()"
   ]
  },
  {
   "cell_type": "code",
   "execution_count": 5,
   "id": "cefa982f",
   "metadata": {},
   "outputs": [
    {
     "data": {
      "text/plain": [
       "(12196977, 11)"
      ]
     },
     "execution_count": 5,
     "metadata": {},
     "output_type": "execute_result"
    }
   ],
   "source": [
    "Data.shape"
   ]
  },
  {
   "cell_type": "markdown",
   "id": "fae69b74",
   "metadata": {},
   "source": [
    "## EDA"
   ]
  },
  {
   "cell_type": "code",
   "execution_count": 6,
   "id": "475b1793",
   "metadata": {},
   "outputs": [
    {
     "data": {
      "text/plain": [
       "time     0\n",
       "acc_x    0\n",
       "acc_y    0\n",
       "acc_z    0\n",
       "gyr_x    0\n",
       "gyr_y    0\n",
       "gyr_z    0\n",
       "mag_x    0\n",
       "mag_y    0\n",
       "mag_z    0\n",
       "label    0\n",
       "dtype: int64"
      ]
     },
     "execution_count": 6,
     "metadata": {},
     "output_type": "execute_result"
    }
   ],
   "source": [
    "Data.isnull().sum()"
   ]
  },
  {
   "cell_type": "code",
   "execution_count": 10,
   "id": "8db71adf",
   "metadata": {},
   "outputs": [],
   "source": [
    "X = Data.drop('label', axis = 1)\n",
    "y = Data.label"
   ]
  },
  {
   "cell_type": "code",
   "execution_count": 8,
   "id": "cd9907f9",
   "metadata": {},
   "outputs": [
    {
     "data": {
      "text/plain": [
       "1    3397638\n",
       "2      24896\n",
       "3     138587\n",
       "4    2533301\n",
       "5    1708881\n",
       "6    1700383\n",
       "7    1927013\n",
       "8     362135\n",
       "9     404143\n",
       "Name: label, dtype: int64"
      ]
     },
     "execution_count": 8,
     "metadata": {},
     "output_type": "execute_result"
    }
   ],
   "source": [
    "y.value_counts().sort_index()\n",
    "# It's not like imbalanced data set. we move further."
   ]
  },
  {
   "cell_type": "code",
   "execution_count": 9,
   "id": "79de0b54",
   "metadata": {},
   "outputs": [],
   "source": [
    "import matplotlib.pyplot as plt\n",
    "import seaborn as sns\n",
    "%matplotlib inline"
   ]
  },
  {
   "cell_type": "code",
   "execution_count": 10,
   "id": "3fe51a0f",
   "metadata": {},
   "outputs": [
    {
     "name": "stderr",
     "output_type": "stream",
     "text": [
      "C:\\Users\\aravi\\anaconda3\\envs\\tensflow\\lib\\site-packages\\seaborn\\distributions.py:2619: FutureWarning: `distplot` is a deprecated function and will be removed in a future version. Please adapt your code to use either `displot` (a figure-level function with similar flexibility) or `histplot` (an axes-level function for histograms).\n",
      "  warnings.warn(msg, FutureWarning)\n"
     ]
    },
    {
     "data": {
      "text/plain": [
       "<AxesSubplot:xlabel='time', ylabel='Density'>"
      ]
     },
     "execution_count": 10,
     "metadata": {},
     "output_type": "execute_result"
    },
    {
     "data": {
      "image/png": "[encoded data removed]",
      "text/plain": [
       "<Figure size 432x288 with 1 Axes>"
      ]
     },
     "metadata": {
      "needs_background": "light"
     },
     "output_type": "display_data"
    }
   ],
   "source": [
    "sns.distplot(X.time)"
   ]
  },
  {
   "cell_type": "code",
   "execution_count": 7,
   "id": "09579fb3",
   "metadata": {},
   "outputs": [],
   "source": [
    "import warnings\n",
    "warnings.filterwarnings(\"ignore\")"
   ]
  },
  {
   "cell_type": "code",
   "execution_count": 8,
   "id": "c41a6293",
   "metadata": {},
   "outputs": [
    {
     "ename": "NameError",
     "evalue": "name 'plt' is not defined",
     "output_type": "error",
     "traceback": [
      "\u001b[1;31m---------------------------------------------------------------------------\u001b[0m",
      "\u001b[1;31mNameError\u001b[0m                                 Traceback (most recent call last)",
      "\u001b[1;32m<ipython-input-8-6db50c4701c4>\u001b[0m in \u001b[0;36m<module>\u001b[1;34m\u001b[0m\n\u001b[1;32m----> 1\u001b[1;33m \u001b[0mplt\u001b[0m\u001b[1;33m.\u001b[0m\u001b[0mfigure\u001b[0m\u001b[1;33m(\u001b[0m\u001b[0mfigsize\u001b[0m \u001b[1;33m=\u001b[0m \u001b[1;33m(\u001b[0m\u001b[1;36m10\u001b[0m\u001b[1;33m,\u001b[0m\u001b[1;36m30\u001b[0m\u001b[1;33m)\u001b[0m\u001b[1;33m)\u001b[0m\u001b[1;33m\u001b[0m\u001b[1;33m\u001b[0m\u001b[0m\n\u001b[0m\u001b[0;32m      2\u001b[0m \u001b[0msns\u001b[0m\u001b[1;33m.\u001b[0m\u001b[0mboxplot\u001b[0m\u001b[1;33m(\u001b[0m\u001b[0my\u001b[0m \u001b[1;33m=\u001b[0m \u001b[0mX\u001b[0m\u001b[1;33m.\u001b[0m\u001b[0macc_x\u001b[0m\u001b[1;33m)\u001b[0m\u001b[1;33m\u001b[0m\u001b[1;33m\u001b[0m\u001b[0m\n",
      "\u001b[1;31mNameError\u001b[0m: name 'plt' is not defined"
     ]
    }
   ],
   "source": [
    "plt.figure(figsize = (10,30))\n",
    "sns.boxplot(y = X.acc_x)"
   ]
  },
  {
   "cell_type": "code",
   "execution_count": 13,
   "id": "7a795cff",
   "metadata": {},
   "outputs": [
    {
     "data": {
      "text/plain": [
       "<AxesSubplot:xlabel='acc_x'>"
      ]
     },
     "execution_count": 13,
     "metadata": {},
     "output_type": "execute_result"
    },
    {
     "data": {
      "image/png": "[encoded data removed]",
      "text/plain": [
       "<Figure size 432x288 with 1 Axes>"
      ]
     },
     "metadata": {
      "needs_background": "light"
     },
     "output_type": "display_data"
    }
   ],
   "source": [
    "sns.stripplot(X.acc_x)"
   ]
  },
  {
   "cell_type": "code",
   "execution_count": 14,
   "id": "608c6ae1",
   "metadata": {},
   "outputs": [],
   "source": [
    "# outliers are too low"
   ]
  },
  {
   "cell_type": "code",
   "execution_count": 15,
   "id": "08b10bfa",
   "metadata": {},
   "outputs": [
    {
     "data": {
      "text/plain": [
       "<AxesSubplot:xlabel='acc_y'>"
      ]
     },
     "execution_count": 15,
     "metadata": {},
     "output_type": "execute_result"
    },
    {
     "data": {
      "image/png": "[encoded data removed]",
      "text/plain": [
       "<Figure size 432x288 with 1 Axes>"
      ]
     },
     "metadata": {
      "needs_background": "light"
     },
     "output_type": "display_data"
    }
   ],
   "source": [
    "sns.boxplot(X.acc_y)"
   ]
  },
  {
   "cell_type": "code",
   "execution_count": 16,
   "id": "a762b491",
   "metadata": {},
   "outputs": [
    {
     "data": {
      "text/plain": [
       "<AxesSubplot:xlabel='acc_y'>"
      ]
     },
     "execution_count": 16,
     "metadata": {},
     "output_type": "execute_result"
    },
    {
     "data": {
      "image/png": "[encoded data removed]",
      "text/plain": [
       "<Figure size 432x288 with 1 Axes>"
      ]
     },
     "metadata": {
      "needs_background": "light"
     },
     "output_type": "display_data"
    }
   ],
   "source": [
    "sns.stripplot(X.acc_y)"
   ]
  },
  {
   "cell_type": "code",
   "execution_count": 17,
   "id": "cfeaf524",
   "metadata": {},
   "outputs": [],
   "source": [
    "# its low "
   ]
  },
  {
   "cell_type": "code",
   "execution_count": 19,
   "id": "fbedf8c1",
   "metadata": {},
   "outputs": [
    {
     "data": {
      "text/plain": [
       "<AxesSubplot:xlabel='acc_z'>"
      ]
     },
     "execution_count": 19,
     "metadata": {},
     "output_type": "execute_result"
    },
    {
     "data": {
      "image/png": "[encoded data removed]",
      "text/plain": [
       "<Figure size 432x288 with 1 Axes>"
      ]
     },
     "metadata": {
      "needs_background": "light"
     },
     "output_type": "display_data"
    }
   ],
   "source": [
    "sns.boxplot(X.acc_z)"
   ]
  },
  {
   "cell_type": "code",
   "execution_count": 20,
   "id": "1f1fce82",
   "metadata": {},
   "outputs": [
    {
     "data": {
      "text/plain": [
       "<AxesSubplot:xlabel='gyr_x'>"
      ]
     },
     "execution_count": 20,
     "metadata": {},
     "output_type": "execute_result"
    },
    {
     "data": {
      "image/png": "[encoded data removed]",
      "text/plain": [
       "<Figure size 432x288 with 1 Axes>"
      ]
     },
     "metadata": {
      "needs_background": "light"
     },
     "output_type": "display_data"
    }
   ],
   "source": [
    "sns.stripplot(X.gyr_x)"
   ]
  },
  {
   "cell_type": "code",
   "execution_count": 21,
   "id": "1c24d1d4",
   "metadata": {},
   "outputs": [
    {
     "data": {
      "text/plain": [
       "<AxesSubplot:xlabel='gyr_y'>"
      ]
     },
     "execution_count": 21,
     "metadata": {},
     "output_type": "execute_result"
    },
    {
     "data": {
      "image/png": "[encoded data removed]",
      "text/plain": [
       "<Figure size 432x288 with 1 Axes>"
      ]
     },
     "metadata": {
      "needs_background": "light"
     },
     "output_type": "display_data"
    }
   ],
   "source": [
    "sns.stripplot(X.gyr_y)"
   ]
  },
  {
   "cell_type": "code",
   "execution_count": 22,
   "id": "ba970206",
   "metadata": {},
   "outputs": [
    {
     "data": {
      "text/plain": [
       "<AxesSubplot:xlabel='gyr_z'>"
      ]
     },
     "execution_count": 22,
     "metadata": {},
     "output_type": "execute_result"
    },
    {
     "data": {
      "image/png": "[encoded data removed]",
      "text/plain": [
       "<Figure size 432x288 with 1 Axes>"
      ]
     },
     "metadata": {
      "needs_background": "light"
     },
     "output_type": "display_data"
    }
   ],
   "source": [
    "sns.stripplot(X.gyr_z)"
   ]
  },
  {
   "cell_type": "code",
   "execution_count": 23,
   "id": "65d4565f",
   "metadata": {},
   "outputs": [
    {
     "data": {
      "text/plain": [
       "<AxesSubplot:xlabel='mag_x'>"
      ]
     },
     "execution_count": 23,
     "metadata": {},
     "output_type": "execute_result"
    },
    {
     "data": {
      "image/png": "[encoded data removed]",
      "text/plain": [
       "<Figure size 432x288 with 1 Axes>"
      ]
     },
     "metadata": {
      "needs_background": "light"
     },
     "output_type": "display_data"
    }
   ],
   "source": [
    "sns.stripplot(X.mag_x)"
   ]
  },
  {
   "cell_type": "code",
   "execution_count": 24,
   "id": "41b39c60",
   "metadata": {},
   "outputs": [
    {
     "data": {
      "text/plain": [
       "<AxesSubplot:xlabel='mag_y'>"
      ]
     },
     "execution_count": 24,
     "metadata": {},
     "output_type": "execute_result"
    },
    {
     "data": {
      "image/png": "[encoded data removed]",
      "text/plain": [
       "<Figure size 432x288 with 1 Axes>"
      ]
     },
     "metadata": {
      "needs_background": "light"
     },
     "output_type": "display_data"
    }
   ],
   "source": [
    "sns.stripplot(X.mag_y)"
   ]
  },
  {
   "cell_type": "code",
   "execution_count": 26,
   "id": "367ec91d",
   "metadata": {},
   "outputs": [],
   "source": [
    "# less outliers in the data set so it can't affect that much in the data."
   ]
  },
  {
   "cell_type": "code",
   "execution_count": 5,
   "id": "cf8e9c17",
   "metadata": {},
   "outputs": [],
   "source": [
    "from sklearn.model_selection import train_test_split"
   ]
  },
  {
   "cell_type": "code",
   "execution_count": null,
   "id": "8ec5bf7f",
   "metadata": {},
   "outputs": [],
   "source": []
  },
  {
   "cell_type": "code",
   "execution_count": 11,
   "id": "3d957268",
   "metadata": {},
   "outputs": [],
   "source": [
    "X_train, X_test, y_train, y_test = train_test_split(X, y, test_size=0.2, random_state=42)"
   ]
  },
  {
   "cell_type": "code",
   "execution_count": 12,
   "id": "98ea8d37",
   "metadata": {},
   "outputs": [],
   "source": [
    "from sklearn.preprocessing import StandardScaler"
   ]
  },
  {
   "cell_type": "code",
   "execution_count": 13,
   "id": "93d6cf20",
   "metadata": {},
   "outputs": [],
   "source": [
    "std = StandardScaler()"
   ]
  },
  {
   "cell_type": "code",
   "execution_count": 14,
   "id": "b30a0e04",
   "metadata": {},
   "outputs": [],
   "source": [
    "X_train = std.fit_transform(X_train)\n",
    "X_test = std.transform(X_test)"
   ]
  },
  {
   "cell_type": "code",
   "execution_count": 15,
   "id": "947f450e",
   "metadata": {},
   "outputs": [
    {
     "name": "stderr",
     "output_type": "stream",
     "text": [
      "Using TensorFlow backend.\n"
     ]
    }
   ],
   "source": [
    "import keras\n",
    "from keras.models import Sequential\n",
    "from keras.layers import Dense\n",
    "from keras.layers import LeakyReLU,PReLU,ELU\n",
    "from keras.layers import Dropout;"
   ]
  },
  {
   "cell_type": "code",
   "execution_count": 16,
   "id": "72e5d1bb",
   "metadata": {},
   "outputs": [],
   "source": [
    "classifier = Sequential()"
   ]
  },
  {
   "cell_type": "code",
   "execution_count": 20,
   "id": "83879b56",
   "metadata": {},
   "outputs": [],
   "source": [
    "classifier.add(Dense(units = 6, kernel_initializer = 'he_uniform', activation = 'relu', input_dim = 10))\n",
    "classifier.add(Dense(units = 6,kernel_initializer = 'he_uniform', activation = 'relu'))\n",
    "classifier.add(Dense(units = 3, kernel_initializer = 'he_uniform', activation = 'relu'))\n",
    "classifier.add(Dense(units = 1, kernel_initializer = 'glorot_uniform', activation = 'sigmoid'))\n",
    "classifier.compile(optimizer = 'Adamax', loss = 'kullback_leibler_divergence', metrics = ['accuracy']);\n"
   ]
  },
  {
   "cell_type": "code",
   "execution_count": 21,
   "id": "b5239bde",
   "metadata": {},
   "outputs": [
    {
     "name": "stdout",
     "output_type": "stream",
     "text": [
      "WARNING:tensorflow:From C:\\Users\\aravi\\anaconda3\\envs\\tensflow\\lib\\site-packages\\tensorflow\\python\\ops\\math_grad.py:1250: add_dispatch_support.<locals>.wrapper (from tensorflow.python.ops.array_ops) is deprecated and will be removed in a future version.\n",
      "Instructions for updating:\n",
      "Use tf.where in 2.0, which has the same broadcast rule as np.where\n",
      "WARNING:tensorflow:From C:\\Users\\aravi\\anaconda3\\envs\\tensflow\\lib\\site-packages\\keras\\backend\\tensorflow_backend.py:422: The name tf.global_variables is deprecated. Please use tf.compat.v1.global_variables instead.\n",
      "\n",
      "Train on 7318185 samples, validate on 2439396 samples\n",
      "Epoch 1/1\n",
      "7318185/7318185 [==============================] - 1542s 211us/step - loss: 1.1370e-04 - accuracy: 0.2785 - val_loss: 0.0000e+00 - val_accuracy: 0.2786\n"
     ]
    }
   ],
   "source": [
    "model = classifier.fit(X_train, y_train, validation_split = 0.25, batch_size = 10, epochs = 1)"
   ]
  },
  {
   "cell_type": "markdown",
   "id": "53ec8824",
   "metadata": {},
   "source": [
    "# I not train well in my lap, If I do 100 epochs or I use Lstm means the accuarcy will be higher.\n",
    "# Having only 8gb ram, so its getting late"
   ]
  },
  {
   "cell_type": "code",
   "execution_count": 22,
   "id": "13480515",
   "metadata": {},
   "outputs": [],
   "source": [
    "test2 = pd.read_csv('2_label_test.csv')\n",
    "test3 = pd.read_csv('3_label_test.csv')\n",
    "test1 = pd.read_csv('1_label_test.csv')\n",
    "test4 = pd.read_csv('4_label_test.csv')\n",
    "test5 = pd.read_csv('5_label_test.csv')\n",
    "test6 = pd.read_csv('6_label_test.csv')\n",
    "test7 = pd.read_csv('7_label_test.csv')\n",
    "test8 = pd.read_csv('8_label_test.csv')\n",
    "test9 = pd.read_csv('9_label_test.csv')"
   ]
  },
  {
   "cell_type": "code",
   "execution_count": 28,
   "id": "fff5953b",
   "metadata": {},
   "outputs": [],
   "source": [
    "DataT = pd.concat([test1, test2, test3, test4 ,test5 ,test6 , test7 ,test8, test9], axis = 0)"
   ]
  },
  {
   "cell_type": "code",
   "execution_count": 29,
   "id": "928bf62a",
   "metadata": {},
   "outputs": [],
   "source": [
    "T = DataT.drop('label', axis =1, inplace = True)"
   ]
  },
  {
   "cell_type": "code",
   "execution_count": 31,
   "id": "69844758",
   "metadata": {},
   "outputs": [],
   "source": [
    "tes = std.transform(T)"
   ]
  },
  {
   "cell_type": "code",
   "execution_count": 26,
   "id": "2b81ae20",
   "metadata": {},
   "outputs": [],
   "source": [
    "pred = classifier.predict(tes)"
   ]
  },
  {
   "cell_type": "code",
   "execution_count": 34,
   "id": "637d6ac5",
   "metadata": {},
   "outputs": [],
   "source": [
    "from sklearn.metrics import accuracy_score"
   ]
  },
  {
   "cell_type": "code",
   "execution_count": 46,
   "id": "6b142bf6",
   "metadata": {},
   "outputs": [],
   "source": [
    "per = pred[:2439396]"
   ]
  },
  {
   "cell_type": "code",
   "execution_count": 47,
   "id": "e0ccc541",
   "metadata": {},
   "outputs": [
    {
     "name": "stdout",
     "output_type": "stream",
     "text": [
      "0.27859683298652616\n"
     ]
    }
   ],
   "source": [
    "print(accuracy_score(y_test,per))"
   ]
  },
  {
   "cell_type": "markdown",
   "id": "36242c6c",
   "metadata": {},
   "source": [
    "### Actually Sorry for the short project, I have only 8 GB ram, It's stumbling,If I use Lstm with the epoch of 100, Defenitely I will give more than 70 % accuracy, this model is quite good coz it perform well in 1 epoch. "
   ]
  },
  {
   "cell_type": "markdown",
   "id": "7ef79433",
   "metadata": {},
   "source": [
    "# Thanks ! for this wonderful project learned a lot of problem solving skills again Thanks! - Aravindan R"
   ]
  },
  {
   "cell_type": "code",
   "execution_count": null,
   "id": "47e1b3d5",
   "metadata": {},
   "outputs": [],
   "source": []
  }
 ],
 "metadata": {
  "kernelspec": {
   "display_name": "Python 3",
   "language": "python",
   "name": "python3"
  },
  "language_info": {
   "codemirror_mode": {
    "name": "ipython",
    "version": 3
   },
   "file_extension": ".py",
   "mimetype": "text/x-python",
   "name": "python",
   "nbconvert_exporter": "python",
   "pygments_lexer": "ipython3",
   "version": "3.7.11"
  }
 },
 "nbformat": 4,
 "nbformat_minor": 5
}
